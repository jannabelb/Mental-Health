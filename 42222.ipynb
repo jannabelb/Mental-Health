{
 "cells": [
  {
   "cell_type": "code",
   "execution_count": 1,
   "id": "8f3d5e14-0874-4321-9a0e-a3da67a643bd",
   "metadata": {},
   "outputs": [
    {
     "name": "stdout",
     "output_type": "stream",
     "text": [
      "(792, 17)\n",
      "              age  physical_activity       sleep\n",
      "count  792.000000         792.000000  792.000000\n",
      "mean    35.083333         149.671717    7.021465\n",
      "std      8.780401           5.544287    0.209252\n",
      "min      0.000000          60.000000    7.000000\n",
      "25%     29.000000         150.000000    7.000000\n",
      "50%     34.000000         150.000000    7.000000\n",
      "75%     40.000000         150.000000    7.000000\n",
      "max     67.000000         160.000000   10.000000\n"
     ]
    }
   ],
   "source": [
    "import numpy as np\n",
    "import pandas as pd\n",
    "import matplotlib.pyplot as plt\n",
    "from sklearn.preprocessing import StandardScaler\n",
    "from sklearn.model_selection import train_test_split\n",
    "\n",
    "df = pd.read_csv('SQL_out.csv')\n",
    "df.info\n",
    "\n",
    "print(df.shape)\n",
    "print(df.describe())"
   ]
  },
  {
   "cell_type": "code",
   "execution_count": 2,
   "id": "1eee4665-fdb0-4163-a178-08866138752a",
   "metadata": {},
   "outputs": [
    {
     "data": {
      "text/html": [
       "<div>\n",
       "<style scoped>\n",
       "    .dataframe tbody tr th:only-of-type {\n",
       "        vertical-align: middle;\n",
       "    }\n",
       "\n",
       "    .dataframe tbody tr th {\n",
       "        vertical-align: top;\n",
       "    }\n",
       "\n",
       "    .dataframe thead th {\n",
       "        text-align: right;\n",
       "    }\n",
       "</style>\n",
       "<table border=\"1\" class=\"dataframe\">\n",
       "  <thead>\n",
       "    <tr style=\"text-align: right;\">\n",
       "      <th></th>\n",
       "      <th>mental_health_benefits</th>\n",
       "      <th>learning_resources</th>\n",
       "      <th>anonymity</th>\n",
       "      <th>medical_leave</th>\n",
       "      <th>medical_coverage</th>\n",
       "      <th>mental_health_disorder</th>\n",
       "      <th>diagnosed</th>\n",
       "      <th>past_mental_health_disorder</th>\n",
       "      <th>sought_treatment</th>\n",
       "      <th>family_history</th>\n",
       "      <th>work_interference</th>\n",
       "      <th>age</th>\n",
       "      <th>gender</th>\n",
       "      <th>race</th>\n",
       "      <th>country</th>\n",
       "      <th>physical_activity</th>\n",
       "      <th>sleep</th>\n",
       "    </tr>\n",
       "  </thead>\n",
       "  <tbody>\n",
       "    <tr>\n",
       "      <th>0</th>\n",
       "      <td>Yes</td>\n",
       "      <td>Yes</td>\n",
       "      <td>Yes</td>\n",
       "      <td>Somewhat difficult</td>\n",
       "      <td>NaN</td>\n",
       "      <td>Possibly</td>\n",
       "      <td>NaN</td>\n",
       "      <td>Yes</td>\n",
       "      <td>1</td>\n",
       "      <td>Yes</td>\n",
       "      <td>Rarely</td>\n",
       "      <td>57</td>\n",
       "      <td>Female</td>\n",
       "      <td>NaN</td>\n",
       "      <td>Canada</td>\n",
       "      <td>150</td>\n",
       "      <td>7</td>\n",
       "    </tr>\n",
       "    <tr>\n",
       "      <th>1</th>\n",
       "      <td>Yes</td>\n",
       "      <td>I don't know</td>\n",
       "      <td>I don't know</td>\n",
       "      <td>Somewhat difficult</td>\n",
       "      <td>NaN</td>\n",
       "      <td>Yes</td>\n",
       "      <td>Yes</td>\n",
       "      <td>Yes</td>\n",
       "      <td>1</td>\n",
       "      <td>Yes</td>\n",
       "      <td>Sometimes</td>\n",
       "      <td>29</td>\n",
       "      <td>male</td>\n",
       "      <td>White</td>\n",
       "      <td>United States of America</td>\n",
       "      <td>150</td>\n",
       "      <td>7</td>\n",
       "    </tr>\n",
       "    <tr>\n",
       "      <th>2</th>\n",
       "      <td>Yes</td>\n",
       "      <td>No</td>\n",
       "      <td>I don't know</td>\n",
       "      <td>Somewhat easy</td>\n",
       "      <td>NaN</td>\n",
       "      <td>No</td>\n",
       "      <td>NaN</td>\n",
       "      <td>No</td>\n",
       "      <td>0</td>\n",
       "      <td>Yes</td>\n",
       "      <td>Not applicable to me</td>\n",
       "      <td>46</td>\n",
       "      <td>Male</td>\n",
       "      <td>White</td>\n",
       "      <td>United States of America</td>\n",
       "      <td>150</td>\n",
       "      <td>7</td>\n",
       "    </tr>\n",
       "    <tr>\n",
       "      <th>3</th>\n",
       "      <td>No</td>\n",
       "      <td>No</td>\n",
       "      <td>I don't know</td>\n",
       "      <td>Neither easy nor difficult</td>\n",
       "      <td>NaN</td>\n",
       "      <td>No</td>\n",
       "      <td>NaN</td>\n",
       "      <td>No</td>\n",
       "      <td>0</td>\n",
       "      <td>No</td>\n",
       "      <td>Not applicable to me</td>\n",
       "      <td>34</td>\n",
       "      <td>male</td>\n",
       "      <td>NaN</td>\n",
       "      <td>Norway</td>\n",
       "      <td>150</td>\n",
       "      <td>7</td>\n",
       "    </tr>\n",
       "    <tr>\n",
       "      <th>4</th>\n",
       "      <td>Yes</td>\n",
       "      <td>Yes</td>\n",
       "      <td>Yes</td>\n",
       "      <td>Somewhat easy</td>\n",
       "      <td>NaN</td>\n",
       "      <td>Yes</td>\n",
       "      <td>Yes</td>\n",
       "      <td>Yes</td>\n",
       "      <td>1</td>\n",
       "      <td>Yes</td>\n",
       "      <td>Rarely</td>\n",
       "      <td>29</td>\n",
       "      <td>Ostensibly Male</td>\n",
       "      <td>White</td>\n",
       "      <td>United States of America</td>\n",
       "      <td>150</td>\n",
       "      <td>7</td>\n",
       "    </tr>\n",
       "    <tr>\n",
       "      <th>...</th>\n",
       "      <td>...</td>\n",
       "      <td>...</td>\n",
       "      <td>...</td>\n",
       "      <td>...</td>\n",
       "      <td>...</td>\n",
       "      <td>...</td>\n",
       "      <td>...</td>\n",
       "      <td>...</td>\n",
       "      <td>...</td>\n",
       "      <td>...</td>\n",
       "      <td>...</td>\n",
       "      <td>...</td>\n",
       "      <td>...</td>\n",
       "      <td>...</td>\n",
       "      <td>...</td>\n",
       "      <td>...</td>\n",
       "      <td>...</td>\n",
       "    </tr>\n",
       "    <tr>\n",
       "      <th>787</th>\n",
       "      <td>NaN</td>\n",
       "      <td>NaN</td>\n",
       "      <td>NaN</td>\n",
       "      <td>NaN</td>\n",
       "      <td>1</td>\n",
       "      <td>No</td>\n",
       "      <td>NaN</td>\n",
       "      <td>Yes</td>\n",
       "      <td>1</td>\n",
       "      <td>No</td>\n",
       "      <td>Rarely</td>\n",
       "      <td>24</td>\n",
       "      <td>mail</td>\n",
       "      <td>NaN</td>\n",
       "      <td>Pakistan</td>\n",
       "      <td>150</td>\n",
       "      <td>7</td>\n",
       "    </tr>\n",
       "    <tr>\n",
       "      <th>788</th>\n",
       "      <td>NaN</td>\n",
       "      <td>NaN</td>\n",
       "      <td>NaN</td>\n",
       "      <td>NaN</td>\n",
       "      <td>1</td>\n",
       "      <td>Don't Know</td>\n",
       "      <td>NaN</td>\n",
       "      <td>Possibly</td>\n",
       "      <td>0</td>\n",
       "      <td>I don't know</td>\n",
       "      <td>Sometimes</td>\n",
       "      <td>44</td>\n",
       "      <td>Male</td>\n",
       "      <td>NaN</td>\n",
       "      <td>Brazil</td>\n",
       "      <td>150</td>\n",
       "      <td>7</td>\n",
       "    </tr>\n",
       "    <tr>\n",
       "      <th>789</th>\n",
       "      <td>NaN</td>\n",
       "      <td>NaN</td>\n",
       "      <td>NaN</td>\n",
       "      <td>NaN</td>\n",
       "      <td>1</td>\n",
       "      <td>Possibly</td>\n",
       "      <td>NaN</td>\n",
       "      <td>Yes</td>\n",
       "      <td>1</td>\n",
       "      <td>I don't know</td>\n",
       "      <td>Often</td>\n",
       "      <td>35</td>\n",
       "      <td>male</td>\n",
       "      <td>NaN</td>\n",
       "      <td>India</td>\n",
       "      <td>150</td>\n",
       "      <td>7</td>\n",
       "    </tr>\n",
       "    <tr>\n",
       "      <th>790</th>\n",
       "      <td>NaN</td>\n",
       "      <td>NaN</td>\n",
       "      <td>NaN</td>\n",
       "      <td>NaN</td>\n",
       "      <td>1</td>\n",
       "      <td>No</td>\n",
       "      <td>NaN</td>\n",
       "      <td>No</td>\n",
       "      <td>0</td>\n",
       "      <td>No</td>\n",
       "      <td>Not applicable to me</td>\n",
       "      <td>30</td>\n",
       "      <td>Female</td>\n",
       "      <td>NaN</td>\n",
       "      <td>Australia</td>\n",
       "      <td>150</td>\n",
       "      <td>7</td>\n",
       "    </tr>\n",
       "    <tr>\n",
       "      <th>791</th>\n",
       "      <td>NaN</td>\n",
       "      <td>NaN</td>\n",
       "      <td>NaN</td>\n",
       "      <td>NaN</td>\n",
       "      <td>1</td>\n",
       "      <td>Possibly</td>\n",
       "      <td>NaN</td>\n",
       "      <td>Yes</td>\n",
       "      <td>1</td>\n",
       "      <td>I don't know</td>\n",
       "      <td>Rarely</td>\n",
       "      <td>23</td>\n",
       "      <td>Female</td>\n",
       "      <td>NaN</td>\n",
       "      <td>Russia</td>\n",
       "      <td>150</td>\n",
       "      <td>7</td>\n",
       "    </tr>\n",
       "  </tbody>\n",
       "</table>\n",
       "<p>792 rows × 17 columns</p>\n",
       "</div>"
      ],
      "text/plain": [
       "    mental_health_benefits learning_resources     anonymity  \\\n",
       "0                      Yes                Yes           Yes   \n",
       "1                      Yes       I don't know  I don't know   \n",
       "2                      Yes                 No  I don't know   \n",
       "3                       No                 No  I don't know   \n",
       "4                      Yes                Yes           Yes   \n",
       "..                     ...                ...           ...   \n",
       "787                    NaN                NaN           NaN   \n",
       "788                    NaN                NaN           NaN   \n",
       "789                    NaN                NaN           NaN   \n",
       "790                    NaN                NaN           NaN   \n",
       "791                    NaN                NaN           NaN   \n",
       "\n",
       "                  medical_leave medical_coverage mental_health_disorder  \\\n",
       "0            Somewhat difficult              NaN               Possibly   \n",
       "1            Somewhat difficult              NaN                    Yes   \n",
       "2                 Somewhat easy              NaN                     No   \n",
       "3    Neither easy nor difficult              NaN                     No   \n",
       "4                 Somewhat easy              NaN                    Yes   \n",
       "..                          ...              ...                    ...   \n",
       "787                         NaN                1                     No   \n",
       "788                         NaN                1             Don't Know   \n",
       "789                         NaN                1               Possibly   \n",
       "790                         NaN                1                     No   \n",
       "791                         NaN                1               Possibly   \n",
       "\n",
       "    diagnosed past_mental_health_disorder sought_treatment family_history  \\\n",
       "0         NaN                         Yes                1            Yes   \n",
       "1         Yes                         Yes                1            Yes   \n",
       "2         NaN                          No                0            Yes   \n",
       "3         NaN                          No                0             No   \n",
       "4         Yes                         Yes                1            Yes   \n",
       "..        ...                         ...              ...            ...   \n",
       "787       NaN                         Yes                1             No   \n",
       "788       NaN                    Possibly                0   I don't know   \n",
       "789       NaN                         Yes                1   I don't know   \n",
       "790       NaN                          No                0             No   \n",
       "791       NaN                         Yes                1   I don't know   \n",
       "\n",
       "        work_interference  age           gender   race  \\\n",
       "0                  Rarely   57           Female    NaN   \n",
       "1               Sometimes   29             male  White   \n",
       "2    Not applicable to me   46             Male  White   \n",
       "3    Not applicable to me   34             male    NaN   \n",
       "4                  Rarely   29  Ostensibly Male  White   \n",
       "..                    ...  ...              ...    ...   \n",
       "787                Rarely   24             mail    NaN   \n",
       "788             Sometimes   44             Male    NaN   \n",
       "789                 Often   35             male    NaN   \n",
       "790  Not applicable to me   30           Female    NaN   \n",
       "791                Rarely   23           Female    NaN   \n",
       "\n",
       "                      country  physical_activity  sleep  \n",
       "0                      Canada                150      7  \n",
       "1    United States of America                150      7  \n",
       "2    United States of America                150      7  \n",
       "3                      Norway                150      7  \n",
       "4    United States of America                150      7  \n",
       "..                        ...                ...    ...  \n",
       "787                  Pakistan                150      7  \n",
       "788                    Brazil                150      7  \n",
       "789                     India                150      7  \n",
       "790                 Australia                150      7  \n",
       "791                    Russia                150      7  \n",
       "\n",
       "[792 rows x 17 columns]"
      ]
     },
     "execution_count": 2,
     "metadata": {},
     "output_type": "execute_result"
    }
   ],
   "source": [
    "df"
   ]
  },
  {
   "cell_type": "code",
   "execution_count": 3,
   "id": "f7ad4bfd-f749-411b-9e5f-2a4cf6533a56",
   "metadata": {},
   "outputs": [
    {
     "name": "stdout",
     "output_type": "stream",
     "text": [
      "                             Total   Percent\n",
      "medical_coverage               663  0.837121\n",
      "diagnosed                      443  0.559343\n",
      "race                           280  0.353535\n",
      "mental_health_benefits         129  0.162879\n",
      "anonymity                      129  0.162879\n",
      "medical_leave                  129  0.162879\n",
      "learning_resources             129  0.162879\n",
      "gender                           9  0.011364\n",
      "past_mental_health_disorder      7  0.008838\n",
      "physical_activity                0  0.000000\n",
      "country                          0  0.000000\n",
      "sought_treatment                 0  0.000000\n",
      "age                              0  0.000000\n",
      "work_interference                0  0.000000\n",
      "family_history                   0  0.000000\n",
      "mental_health_disorder           0  0.000000\n",
      "sleep                            0  0.000000\n",
      "mental_health_benefits         129\n",
      "learning_resources             129\n",
      "anonymity                      129\n",
      "medical_leave                  129\n",
      "medical_coverage               663\n",
      "mental_health_disorder           0\n",
      "diagnosed                      443\n",
      "past_mental_health_disorder      7\n",
      "sought_treatment                 0\n",
      "family_history                   0\n",
      "work_interference                0\n",
      "age                              0\n",
      "gender                           9\n",
      "race                           280\n",
      "country                          0\n",
      "physical_activity                0\n",
      "sleep                            0\n",
      "dtype: int64\n"
     ]
    }
   ],
   "source": [
    "## missing data\n",
    "total = df.isnull().sum().sort_values(ascending=False)\n",
    "percent = (df.isnull().sum()/df.isnull().count()).sort_values(ascending=False)\n",
    "missing_data = pd.concat([total, percent], axis=1, keys=['Total', 'Percent'])\n",
    "missing_data.head(20)\n",
    "print(missing_data)\n",
    "print(df.isnull().sum())"
   ]
  },
  {
   "cell_type": "code",
   "execution_count": 4,
   "id": "8a551992-6981-4931-a28c-9ffdb6ca4966",
   "metadata": {},
   "outputs": [
    {
     "data": {
      "text/html": [
       "<div>\n",
       "<style scoped>\n",
       "    .dataframe tbody tr th:only-of-type {\n",
       "        vertical-align: middle;\n",
       "    }\n",
       "\n",
       "    .dataframe tbody tr th {\n",
       "        vertical-align: top;\n",
       "    }\n",
       "\n",
       "    .dataframe thead th {\n",
       "        text-align: right;\n",
       "    }\n",
       "</style>\n",
       "<table border=\"1\" class=\"dataframe\">\n",
       "  <thead>\n",
       "    <tr style=\"text-align: right;\">\n",
       "      <th></th>\n",
       "      <th>mental_health_benefits</th>\n",
       "      <th>learning_resources</th>\n",
       "      <th>anonymity</th>\n",
       "      <th>medical_leave</th>\n",
       "      <th>medical_coverage</th>\n",
       "      <th>mental_health_disorder</th>\n",
       "      <th>diagnosed</th>\n",
       "      <th>past_mental_health_disorder</th>\n",
       "      <th>sought_treatment</th>\n",
       "      <th>family_history</th>\n",
       "      <th>work_interference</th>\n",
       "      <th>age</th>\n",
       "      <th>gender</th>\n",
       "      <th>race</th>\n",
       "      <th>country</th>\n",
       "      <th>physical_activity</th>\n",
       "      <th>sleep</th>\n",
       "    </tr>\n",
       "  </thead>\n",
       "  <tbody>\n",
       "    <tr>\n",
       "      <th>0</th>\n",
       "      <td>Yes</td>\n",
       "      <td>Yes</td>\n",
       "      <td>Yes</td>\n",
       "      <td>Somewhat difficult</td>\n",
       "      <td>NaN</td>\n",
       "      <td>Possibly</td>\n",
       "      <td>NaN</td>\n",
       "      <td>Yes</td>\n",
       "      <td>1</td>\n",
       "      <td>Yes</td>\n",
       "      <td>Rarely</td>\n",
       "      <td>57</td>\n",
       "      <td>Female</td>\n",
       "      <td>NaN</td>\n",
       "      <td>Canada</td>\n",
       "      <td>150</td>\n",
       "      <td>7</td>\n",
       "    </tr>\n",
       "    <tr>\n",
       "      <th>1</th>\n",
       "      <td>Yes</td>\n",
       "      <td>I don't know</td>\n",
       "      <td>I don't know</td>\n",
       "      <td>Somewhat difficult</td>\n",
       "      <td>NaN</td>\n",
       "      <td>Yes</td>\n",
       "      <td>Yes</td>\n",
       "      <td>Yes</td>\n",
       "      <td>1</td>\n",
       "      <td>Yes</td>\n",
       "      <td>Sometimes</td>\n",
       "      <td>29</td>\n",
       "      <td>male</td>\n",
       "      <td>White</td>\n",
       "      <td>United States of America</td>\n",
       "      <td>150</td>\n",
       "      <td>7</td>\n",
       "    </tr>\n",
       "    <tr>\n",
       "      <th>2</th>\n",
       "      <td>Yes</td>\n",
       "      <td>No</td>\n",
       "      <td>I don't know</td>\n",
       "      <td>Somewhat easy</td>\n",
       "      <td>NaN</td>\n",
       "      <td>No</td>\n",
       "      <td>NaN</td>\n",
       "      <td>No</td>\n",
       "      <td>0</td>\n",
       "      <td>Yes</td>\n",
       "      <td>Not applicable to me</td>\n",
       "      <td>46</td>\n",
       "      <td>Male</td>\n",
       "      <td>White</td>\n",
       "      <td>United States of America</td>\n",
       "      <td>150</td>\n",
       "      <td>7</td>\n",
       "    </tr>\n",
       "    <tr>\n",
       "      <th>3</th>\n",
       "      <td>No</td>\n",
       "      <td>No</td>\n",
       "      <td>I don't know</td>\n",
       "      <td>Neither easy nor difficult</td>\n",
       "      <td>NaN</td>\n",
       "      <td>No</td>\n",
       "      <td>NaN</td>\n",
       "      <td>No</td>\n",
       "      <td>0</td>\n",
       "      <td>No</td>\n",
       "      <td>Not applicable to me</td>\n",
       "      <td>34</td>\n",
       "      <td>male</td>\n",
       "      <td>NaN</td>\n",
       "      <td>Norway</td>\n",
       "      <td>150</td>\n",
       "      <td>7</td>\n",
       "    </tr>\n",
       "    <tr>\n",
       "      <th>4</th>\n",
       "      <td>Yes</td>\n",
       "      <td>Yes</td>\n",
       "      <td>Yes</td>\n",
       "      <td>Somewhat easy</td>\n",
       "      <td>NaN</td>\n",
       "      <td>Yes</td>\n",
       "      <td>Yes</td>\n",
       "      <td>Yes</td>\n",
       "      <td>1</td>\n",
       "      <td>Yes</td>\n",
       "      <td>Rarely</td>\n",
       "      <td>29</td>\n",
       "      <td>Ostensibly Male</td>\n",
       "      <td>White</td>\n",
       "      <td>United States of America</td>\n",
       "      <td>150</td>\n",
       "      <td>7</td>\n",
       "    </tr>\n",
       "  </tbody>\n",
       "</table>\n",
       "</div>"
      ],
      "text/plain": [
       "  mental_health_benefits learning_resources     anonymity  \\\n",
       "0                    Yes                Yes           Yes   \n",
       "1                    Yes       I don't know  I don't know   \n",
       "2                    Yes                 No  I don't know   \n",
       "3                     No                 No  I don't know   \n",
       "4                    Yes                Yes           Yes   \n",
       "\n",
       "                medical_leave medical_coverage mental_health_disorder  \\\n",
       "0          Somewhat difficult              NaN               Possibly   \n",
       "1          Somewhat difficult              NaN                    Yes   \n",
       "2               Somewhat easy              NaN                     No   \n",
       "3  Neither easy nor difficult              NaN                     No   \n",
       "4               Somewhat easy              NaN                    Yes   \n",
       "\n",
       "  diagnosed past_mental_health_disorder sought_treatment family_history  \\\n",
       "0       NaN                         Yes                1            Yes   \n",
       "1       Yes                         Yes                1            Yes   \n",
       "2       NaN                          No                0            Yes   \n",
       "3       NaN                          No                0             No   \n",
       "4       Yes                         Yes                1            Yes   \n",
       "\n",
       "      work_interference  age           gender   race  \\\n",
       "0                Rarely   57           Female    NaN   \n",
       "1             Sometimes   29             male  White   \n",
       "2  Not applicable to me   46             Male  White   \n",
       "3  Not applicable to me   34             male    NaN   \n",
       "4                Rarely   29  Ostensibly Male  White   \n",
       "\n",
       "                    country  physical_activity  sleep  \n",
       "0                    Canada                150      7  \n",
       "1  United States of America                150      7  \n",
       "2  United States of America                150      7  \n",
       "3                    Norway                150      7  \n",
       "4  United States of America                150      7  "
      ]
     },
     "execution_count": 4,
     "metadata": {},
     "output_type": "execute_result"
    }
   ],
   "source": [
    "# Nan\n",
    "defaultNum = 0\n",
    "defaultName = 'NaN'\n",
    "\n",
    "numFeatures = ['age', 'physical_activity', 'sleep']\n",
    "nameFeatures = ['mental_health_benefits','learning_resources', 'anonymity', 'medical_leave',\n",
    "                'medical_coverage','mental_health_disorder', 'diagnosed',\n",
    "                'past_mental_health_disorder','sought_treatment', 'family_history',\n",
    "                'work_interference', 'gender','race', 'country']\n",
    "\n",
    "# Cleaning NaN values\n",
    "for i in df:\n",
    "    if i in numFeatures:\n",
    "        df[i] = df[i].fillna(defaultNum)\n",
    "    elif i in nameFeatures:\n",
    "        df[i] = df[i].fillna(defaultName)\n",
    "    else:\n",
    "        print('Error: Feature %s not recognized.' % i)\n",
    "df.head(5)"
   ]
  },
  {
   "cell_type": "code",
   "execution_count": 5,
   "id": "61563d94-915a-456c-b132-26d908b8eb7e",
   "metadata": {},
   "outputs": [
    {
     "name": "stdout",
     "output_type": "stream",
     "text": [
      "<class 'str'>\n",
      "0      female\n",
      "1        male\n",
      "2        male\n",
      "3        male\n",
      "4        male\n",
      "        ...  \n",
      "787      male\n",
      "788      male\n",
      "789      male\n",
      "790    female\n",
      "791    female\n",
      "Name: gender, Length: 792, dtype: object\n"
     ]
    }
   ],
   "source": [
    "#clean 'Gender'\n",
    "\n",
    "print(type('gender'))\n",
    "\n",
    "#Select unique elements\n",
    "gender = df['gender'].unique()\n",
    "#print(df['gender'])\n",
    "\n",
    "#Made gender groups\n",
    "male_string = ['male', 'Male', 'Male ', 'Ostensibly Male', 'male, born with xy chromosoms', 'Malel',\n",
    "               'M', 'MALE', 'm', 'Cis-male', 'Male ', 'cis male', 'Cis Male', 'Man',\n",
    "               'Cisgender male', 'Let\\'s keep it simple and say male\"\"\"\"',\n",
    "               'Identify as male', 'Masculine', 'Cishet male','I have a penis', 'man',\n",
    "               'masculino', 'Make', 'CIS Male','mail']\n",
    "trans_string = ['Trans man', 'transgender', 'Trans woman', 'Trans female']\n",
    "female_string = ['Female', 'Female ', 'female', 'Woman', 'woman', 'F', 'f', 'I identify as female',\n",
    "                 '*shrug emoji* (F)', 'Female/gender non-binary.', 'Cis woman',\n",
    "                 'Female (cisgender)', 'Cis-Female', 'Cisgendered woman', 'She/her/they/them',\n",
    "                 'Cis female ', 'cisgender female', 'Female-identified', 'cis woman', 'femmina',\n",
    "                 'Femile', 'Female (cis)']\n",
    "other_string = ['Agender', 'SWM', 'Genderqueer', 'NaN', '*shrug emoji* (F)', 'Nonbinary', 'Male (or female, or both)',\n",
    "                'non binary', 'genderfluid' 'Genderqueer', 'genderfluid', 'genderqueer', 'Demiguy', 'none', 'non-binary', 'Other',\n",
    "                'NB', 'Genderfluid', 'Nonbinary/femme', 'gender non-conforming woman', 'Non-binary',\n",
    "                'Non binary', 'None', 'agender', 'Questioning', 'rr', 'Agender trans woman', '43',\n",
    "                'I am a Wookie', 'Trans non-binary/genderfluid', 'Non-binary and gender fluid']\n",
    "\n",
    "for (row, col) in df.iterrows():\n",
    "    if col.gender in male_string:\n",
    "        df['gender'].replace(to_replace = col.gender, value = 'male', inplace = True)\n",
    "for (row, col) in df.iterrows():\n",
    "    if col.gender in female_string:\n",
    "        df['gender'].replace(to_replace = col.gender, value = 'female', inplace = True)\n",
    "for (row, col) in df.iterrows():\n",
    "    if col.gender in trans_string:\n",
    "        df['gender'].replace(to_replace = col.gender, value = 'trans', inplace = True)\n",
    "for (row, col) in df.iterrows():\n",
    "    if col.gender in other_string:\n",
    "        df['gender'].replace(to_replace = col.gender, value = 'other', inplace = True)\n",
    "        \n",
    "print(df['gender'])"
   ]
  },
  {
   "cell_type": "code",
   "execution_count": 6,
   "id": "816ef8fd-419c-4fdb-94a6-dce15e87c330",
   "metadata": {},
   "outputs": [
    {
     "data": {
      "text/plain": [
       "array([57, 29, 46, 34, 55, 35, 33, 37, 45, 31, 38, 26, 27, 47, 32, 36, 30,\n",
       "       44, 19, 61, 52, 39, 28, 43, 42, 24, 25, 23, 20, 41, 40, 22, 53, 67,\n",
       "       56, 54, 49, 21, 51, 48, 65, 50, 58, 64, 60, 63, 59])"
      ]
     },
     "execution_count": 6,
     "metadata": {},
     "output_type": "execute_result"
    }
   ],
   "source": [
    "# Clean outliers from 'Age'\n",
    "df = df.drop(df[(df.age < 16)].index)\n",
    "df.age.unique()"
   ]
  },
  {
   "cell_type": "code",
   "execution_count": 7,
   "id": "094ab98b-08bc-4e9b-9181-172121a9129e",
   "metadata": {},
   "outputs": [
    {
     "name": "stdout",
     "output_type": "stream",
     "text": [
      "0      1\n",
      "1      1\n",
      "2      0\n",
      "3      0\n",
      "4      1\n",
      "      ..\n",
      "787    1\n",
      "788    0\n",
      "789    1\n",
      "790    0\n",
      "791    1\n",
      "Name: sought_treatment, Length: 789, dtype: object\n"
     ]
    }
   ],
   "source": [
    "# Clean 'sought treatment'\n",
    "\n",
    "# Made groups\n",
    "one = ['TRUE']\n",
    "zero = ['FALSE']\n",
    "\n",
    "\n",
    "for (row, col) in df.iterrows():\n",
    "    if col.sought_treatment in one:\n",
    "        df['sought_treatment'].replace(to_replace = col.sought_treatment, value = '1', inplace = True)\n",
    "for (row, col) in df.iterrows():\n",
    "    if col.sought_treatment in zero:\n",
    "        df['sought_treatment'].replace(to_replace = col.sought_treatment, value = '0', inplace = True)\n",
    "        \n",
    "print(df['sought_treatment'])"
   ]
  },
  {
   "cell_type": "code",
   "execution_count": 8,
   "id": "7f7451b2-5d3e-4f48-a014-547c60eef96f",
   "metadata": {},
   "outputs": [
    {
     "name": "stdout",
     "output_type": "stream",
     "text": [
      "0      NaN\n",
      "1      NaN\n",
      "2      NaN\n",
      "3      NaN\n",
      "4      NaN\n",
      "      ... \n",
      "787      1\n",
      "788      1\n",
      "789      1\n",
      "790      1\n",
      "791      1\n",
      "Name: medical_coverage, Length: 789, dtype: object\n"
     ]
    }
   ],
   "source": [
    "# clean 'medical coverage'\n",
    "\n",
    "# Made groups\n",
    "one = ['TRUE']\n",
    "zero = ['FALSE']\n",
    "\n",
    "\n",
    "for (row, col) in df.iterrows():\n",
    "    if col.medical_coverage in one:\n",
    "        df['medical_coverage'].replace(to_replace = col.medical_coverage, value = '1', inplace = True)\n",
    "for (row, col) in df.iterrows():\n",
    "    if col.medical_coverage in zero:\n",
    "        df['medical_coverage'].replace(to_replace = col.medical_coverage, value = '0', inplace = True)\n",
    "        \n",
    "print(df['medical_coverage'])"
   ]
  },
  {
   "cell_type": "code",
   "execution_count": 9,
   "id": "126b3a2c-fe48-4c27-8bad-ff958bc504a3",
   "metadata": {},
   "outputs": [
    {
     "data": {
      "text/plain": [
       "array(['female', 'male', 'other', 'trans'], dtype=object)"
      ]
     },
     "execution_count": 9,
     "metadata": {},
     "output_type": "execute_result"
    }
   ],
   "source": [
    "df['gender'].unique()"
   ]
  },
  {
   "cell_type": "code",
   "execution_count": 10,
   "id": "c24081b2-cdc7-49eb-991c-569ae2ee1bac",
   "metadata": {},
   "outputs": [],
   "source": [
    "# To see all the rows, please uncomment\n",
    "#with pd.option_context('display.max_rows', None, 'display.max_columns', None):\n",
    "    #print(df)"
   ]
  },
  {
   "cell_type": "code",
   "execution_count": 11,
   "id": "50e02df7-14d0-4dc7-bb5a-7b5e11c5f97e",
   "metadata": {},
   "outputs": [
    {
     "data": {
      "text/html": [
       "<div>\n",
       "<style scoped>\n",
       "    .dataframe tbody tr th:only-of-type {\n",
       "        vertical-align: middle;\n",
       "    }\n",
       "\n",
       "    .dataframe tbody tr th {\n",
       "        vertical-align: top;\n",
       "    }\n",
       "\n",
       "    .dataframe thead th {\n",
       "        text-align: right;\n",
       "    }\n",
       "</style>\n",
       "<table border=\"1\" class=\"dataframe\">\n",
       "  <thead>\n",
       "    <tr style=\"text-align: right;\">\n",
       "      <th></th>\n",
       "      <th>mental_health_benefits</th>\n",
       "      <th>learning_resources</th>\n",
       "      <th>anonymity</th>\n",
       "      <th>medical_leave</th>\n",
       "      <th>medical_coverage</th>\n",
       "      <th>mental_health_disorder</th>\n",
       "      <th>diagnosed</th>\n",
       "      <th>past_mental_health_disorder</th>\n",
       "      <th>sought_treatment</th>\n",
       "      <th>family_history</th>\n",
       "      <th>work_interference</th>\n",
       "      <th>age</th>\n",
       "      <th>gender</th>\n",
       "      <th>race</th>\n",
       "      <th>country</th>\n",
       "      <th>physical_activity</th>\n",
       "      <th>sleep</th>\n",
       "    </tr>\n",
       "  </thead>\n",
       "  <tbody>\n",
       "    <tr>\n",
       "      <th>0</th>\n",
       "      <td>Yes</td>\n",
       "      <td>Yes</td>\n",
       "      <td>Yes</td>\n",
       "      <td>Somewhat difficult</td>\n",
       "      <td>NaN</td>\n",
       "      <td>Possibly</td>\n",
       "      <td>NaN</td>\n",
       "      <td>Yes</td>\n",
       "      <td>1</td>\n",
       "      <td>Yes</td>\n",
       "      <td>Rarely</td>\n",
       "      <td>57</td>\n",
       "      <td>female</td>\n",
       "      <td>NaN</td>\n",
       "      <td>Canada</td>\n",
       "      <td>150</td>\n",
       "      <td>7</td>\n",
       "    </tr>\n",
       "    <tr>\n",
       "      <th>1</th>\n",
       "      <td>Yes</td>\n",
       "      <td>I don't know</td>\n",
       "      <td>I don't know</td>\n",
       "      <td>Somewhat difficult</td>\n",
       "      <td>NaN</td>\n",
       "      <td>Yes</td>\n",
       "      <td>Yes</td>\n",
       "      <td>Yes</td>\n",
       "      <td>1</td>\n",
       "      <td>Yes</td>\n",
       "      <td>Sometimes</td>\n",
       "      <td>29</td>\n",
       "      <td>male</td>\n",
       "      <td>White</td>\n",
       "      <td>United States of America</td>\n",
       "      <td>150</td>\n",
       "      <td>7</td>\n",
       "    </tr>\n",
       "    <tr>\n",
       "      <th>2</th>\n",
       "      <td>Yes</td>\n",
       "      <td>No</td>\n",
       "      <td>I don't know</td>\n",
       "      <td>Somewhat easy</td>\n",
       "      <td>NaN</td>\n",
       "      <td>No</td>\n",
       "      <td>NaN</td>\n",
       "      <td>No</td>\n",
       "      <td>0</td>\n",
       "      <td>Yes</td>\n",
       "      <td>Not applicable to me</td>\n",
       "      <td>46</td>\n",
       "      <td>male</td>\n",
       "      <td>White</td>\n",
       "      <td>United States of America</td>\n",
       "      <td>150</td>\n",
       "      <td>7</td>\n",
       "    </tr>\n",
       "    <tr>\n",
       "      <th>3</th>\n",
       "      <td>No</td>\n",
       "      <td>No</td>\n",
       "      <td>I don't know</td>\n",
       "      <td>Neither easy nor difficult</td>\n",
       "      <td>NaN</td>\n",
       "      <td>No</td>\n",
       "      <td>NaN</td>\n",
       "      <td>No</td>\n",
       "      <td>0</td>\n",
       "      <td>No</td>\n",
       "      <td>Not applicable to me</td>\n",
       "      <td>34</td>\n",
       "      <td>male</td>\n",
       "      <td>NaN</td>\n",
       "      <td>Norway</td>\n",
       "      <td>150</td>\n",
       "      <td>7</td>\n",
       "    </tr>\n",
       "    <tr>\n",
       "      <th>4</th>\n",
       "      <td>Yes</td>\n",
       "      <td>Yes</td>\n",
       "      <td>Yes</td>\n",
       "      <td>Somewhat easy</td>\n",
       "      <td>NaN</td>\n",
       "      <td>Yes</td>\n",
       "      <td>Yes</td>\n",
       "      <td>Yes</td>\n",
       "      <td>1</td>\n",
       "      <td>Yes</td>\n",
       "      <td>Rarely</td>\n",
       "      <td>29</td>\n",
       "      <td>male</td>\n",
       "      <td>White</td>\n",
       "      <td>United States of America</td>\n",
       "      <td>150</td>\n",
       "      <td>7</td>\n",
       "    </tr>\n",
       "    <tr>\n",
       "      <th>...</th>\n",
       "      <td>...</td>\n",
       "      <td>...</td>\n",
       "      <td>...</td>\n",
       "      <td>...</td>\n",
       "      <td>...</td>\n",
       "      <td>...</td>\n",
       "      <td>...</td>\n",
       "      <td>...</td>\n",
       "      <td>...</td>\n",
       "      <td>...</td>\n",
       "      <td>...</td>\n",
       "      <td>...</td>\n",
       "      <td>...</td>\n",
       "      <td>...</td>\n",
       "      <td>...</td>\n",
       "      <td>...</td>\n",
       "      <td>...</td>\n",
       "    </tr>\n",
       "    <tr>\n",
       "      <th>787</th>\n",
       "      <td>NaN</td>\n",
       "      <td>NaN</td>\n",
       "      <td>NaN</td>\n",
       "      <td>NaN</td>\n",
       "      <td>1</td>\n",
       "      <td>No</td>\n",
       "      <td>NaN</td>\n",
       "      <td>Yes</td>\n",
       "      <td>1</td>\n",
       "      <td>No</td>\n",
       "      <td>Rarely</td>\n",
       "      <td>24</td>\n",
       "      <td>male</td>\n",
       "      <td>NaN</td>\n",
       "      <td>Pakistan</td>\n",
       "      <td>150</td>\n",
       "      <td>7</td>\n",
       "    </tr>\n",
       "    <tr>\n",
       "      <th>788</th>\n",
       "      <td>NaN</td>\n",
       "      <td>NaN</td>\n",
       "      <td>NaN</td>\n",
       "      <td>NaN</td>\n",
       "      <td>1</td>\n",
       "      <td>Don't Know</td>\n",
       "      <td>NaN</td>\n",
       "      <td>Possibly</td>\n",
       "      <td>0</td>\n",
       "      <td>I don't know</td>\n",
       "      <td>Sometimes</td>\n",
       "      <td>44</td>\n",
       "      <td>male</td>\n",
       "      <td>NaN</td>\n",
       "      <td>Brazil</td>\n",
       "      <td>150</td>\n",
       "      <td>7</td>\n",
       "    </tr>\n",
       "    <tr>\n",
       "      <th>789</th>\n",
       "      <td>NaN</td>\n",
       "      <td>NaN</td>\n",
       "      <td>NaN</td>\n",
       "      <td>NaN</td>\n",
       "      <td>1</td>\n",
       "      <td>Possibly</td>\n",
       "      <td>NaN</td>\n",
       "      <td>Yes</td>\n",
       "      <td>1</td>\n",
       "      <td>I don't know</td>\n",
       "      <td>Often</td>\n",
       "      <td>35</td>\n",
       "      <td>male</td>\n",
       "      <td>NaN</td>\n",
       "      <td>India</td>\n",
       "      <td>150</td>\n",
       "      <td>7</td>\n",
       "    </tr>\n",
       "    <tr>\n",
       "      <th>790</th>\n",
       "      <td>NaN</td>\n",
       "      <td>NaN</td>\n",
       "      <td>NaN</td>\n",
       "      <td>NaN</td>\n",
       "      <td>1</td>\n",
       "      <td>No</td>\n",
       "      <td>NaN</td>\n",
       "      <td>No</td>\n",
       "      <td>0</td>\n",
       "      <td>No</td>\n",
       "      <td>Not applicable to me</td>\n",
       "      <td>30</td>\n",
       "      <td>female</td>\n",
       "      <td>NaN</td>\n",
       "      <td>Australia</td>\n",
       "      <td>150</td>\n",
       "      <td>7</td>\n",
       "    </tr>\n",
       "    <tr>\n",
       "      <th>791</th>\n",
       "      <td>NaN</td>\n",
       "      <td>NaN</td>\n",
       "      <td>NaN</td>\n",
       "      <td>NaN</td>\n",
       "      <td>1</td>\n",
       "      <td>Possibly</td>\n",
       "      <td>NaN</td>\n",
       "      <td>Yes</td>\n",
       "      <td>1</td>\n",
       "      <td>I don't know</td>\n",
       "      <td>Rarely</td>\n",
       "      <td>23</td>\n",
       "      <td>female</td>\n",
       "      <td>NaN</td>\n",
       "      <td>Russia</td>\n",
       "      <td>150</td>\n",
       "      <td>7</td>\n",
       "    </tr>\n",
       "  </tbody>\n",
       "</table>\n",
       "<p>789 rows × 17 columns</p>\n",
       "</div>"
      ],
      "text/plain": [
       "    mental_health_benefits learning_resources     anonymity  \\\n",
       "0                      Yes                Yes           Yes   \n",
       "1                      Yes       I don't know  I don't know   \n",
       "2                      Yes                 No  I don't know   \n",
       "3                       No                 No  I don't know   \n",
       "4                      Yes                Yes           Yes   \n",
       "..                     ...                ...           ...   \n",
       "787                    NaN                NaN           NaN   \n",
       "788                    NaN                NaN           NaN   \n",
       "789                    NaN                NaN           NaN   \n",
       "790                    NaN                NaN           NaN   \n",
       "791                    NaN                NaN           NaN   \n",
       "\n",
       "                  medical_leave medical_coverage mental_health_disorder  \\\n",
       "0            Somewhat difficult              NaN               Possibly   \n",
       "1            Somewhat difficult              NaN                    Yes   \n",
       "2                 Somewhat easy              NaN                     No   \n",
       "3    Neither easy nor difficult              NaN                     No   \n",
       "4                 Somewhat easy              NaN                    Yes   \n",
       "..                          ...              ...                    ...   \n",
       "787                         NaN                1                     No   \n",
       "788                         NaN                1             Don't Know   \n",
       "789                         NaN                1               Possibly   \n",
       "790                         NaN                1                     No   \n",
       "791                         NaN                1               Possibly   \n",
       "\n",
       "    diagnosed past_mental_health_disorder sought_treatment family_history  \\\n",
       "0         NaN                         Yes                1            Yes   \n",
       "1         Yes                         Yes                1            Yes   \n",
       "2         NaN                          No                0            Yes   \n",
       "3         NaN                          No                0             No   \n",
       "4         Yes                         Yes                1            Yes   \n",
       "..        ...                         ...              ...            ...   \n",
       "787       NaN                         Yes                1             No   \n",
       "788       NaN                    Possibly                0   I don't know   \n",
       "789       NaN                         Yes                1   I don't know   \n",
       "790       NaN                          No                0             No   \n",
       "791       NaN                         Yes                1   I don't know   \n",
       "\n",
       "        work_interference  age  gender   race                   country  \\\n",
       "0                  Rarely   57  female    NaN                    Canada   \n",
       "1               Sometimes   29    male  White  United States of America   \n",
       "2    Not applicable to me   46    male  White  United States of America   \n",
       "3    Not applicable to me   34    male    NaN                    Norway   \n",
       "4                  Rarely   29    male  White  United States of America   \n",
       "..                    ...  ...     ...    ...                       ...   \n",
       "787                Rarely   24    male    NaN                  Pakistan   \n",
       "788             Sometimes   44    male    NaN                    Brazil   \n",
       "789                 Often   35    male    NaN                     India   \n",
       "790  Not applicable to me   30  female    NaN                 Australia   \n",
       "791                Rarely   23  female    NaN                    Russia   \n",
       "\n",
       "     physical_activity  sleep  \n",
       "0                  150      7  \n",
       "1                  150      7  \n",
       "2                  150      7  \n",
       "3                  150      7  \n",
       "4                  150      7  \n",
       "..                 ...    ...  \n",
       "787                150      7  \n",
       "788                150      7  \n",
       "789                150      7  \n",
       "790                150      7  \n",
       "791                150      7  \n",
       "\n",
       "[789 rows x 17 columns]"
      ]
     },
     "execution_count": 11,
     "metadata": {},
     "output_type": "execute_result"
    }
   ],
   "source": [
    "df"
   ]
  },
  {
   "cell_type": "code",
   "execution_count": 12,
   "id": "15162bdd-0100-4b05-917c-f28fda2a7d53",
   "metadata": {},
   "outputs": [
    {
     "data": {
      "text/plain": [
       "array(['Yes', 'No', 'Not eligible for coverage / NA', \"I don't know\",\n",
       "       'NaN'], dtype=object)"
      ]
     },
     "execution_count": 12,
     "metadata": {},
     "output_type": "execute_result"
    }
   ],
   "source": [
    "df.mental_health_benefits.unique()"
   ]
  },
  {
   "cell_type": "code",
   "execution_count": 13,
   "id": "05e1b9bc-b7b1-4ab3-9dd2-d7e37eb3e149",
   "metadata": {},
   "outputs": [
    {
     "data": {
      "text/plain": [
       "array(['NaN', '1', '0'], dtype=object)"
      ]
     },
     "execution_count": 13,
     "metadata": {},
     "output_type": "execute_result"
    }
   ],
   "source": [
    "df.medical_coverage.unique()"
   ]
  },
  {
   "cell_type": "code",
   "execution_count": 14,
   "id": "672144ac-ef23-4a79-9f6d-268a7a888084",
   "metadata": {},
   "outputs": [
    {
     "data": {
      "text/plain": [
       "array(['Yes', \"I don't know\", 'No', 'NaN'], dtype=object)"
      ]
     },
     "execution_count": 14,
     "metadata": {},
     "output_type": "execute_result"
    }
   ],
   "source": [
    "df.anonymity.unique()"
   ]
  },
  {
   "cell_type": "code",
   "execution_count": 15,
   "id": "696e8538-fa91-48d1-b45c-9e7175d4d1d7",
   "metadata": {},
   "outputs": [
    {
     "data": {
      "text/plain": [
       "array(['Possibly', 'Yes', 'No', \"Don't Know\"], dtype=object)"
      ]
     },
     "execution_count": 15,
     "metadata": {},
     "output_type": "execute_result"
    }
   ],
   "source": [
    "df.mental_health_disorder.unique()"
   ]
  },
  {
   "cell_type": "code",
   "execution_count": 16,
   "id": "2ee2d73c-6444-4e79-b7c8-7c2c6ef40dc6",
   "metadata": {},
   "outputs": [
    {
     "data": {
      "text/plain": [
       "array(['NaN', 'Yes', 'No'], dtype=object)"
      ]
     },
     "execution_count": 16,
     "metadata": {},
     "output_type": "execute_result"
    }
   ],
   "source": [
    "df.diagnosed.unique()"
   ]
  },
  {
   "cell_type": "code",
   "execution_count": 17,
   "id": "45de21ee-62ce-4ace-9410-50a3fb6dcbfe",
   "metadata": {
    "tags": []
   },
   "outputs": [
    {
     "data": {
      "text/plain": [
       "array(['Yes', 'No', \"Don't Know\", 'Possibly', 'NaN'], dtype=object)"
      ]
     },
     "execution_count": 17,
     "metadata": {},
     "output_type": "execute_result"
    }
   ],
   "source": [
    "df.past_mental_health_disorder.unique()"
   ]
  },
  {
   "cell_type": "code",
   "execution_count": 18,
   "id": "b3d41ed1-3d97-4ea3-beb9-94da11477b47",
   "metadata": {},
   "outputs": [
    {
     "data": {
      "text/plain": [
       "array(['1', '0'], dtype=object)"
      ]
     },
     "execution_count": 18,
     "metadata": {},
     "output_type": "execute_result"
    }
   ],
   "source": [
    "df.sought_treatment.unique()"
   ]
  },
  {
   "cell_type": "code",
   "execution_count": 19,
   "id": "8258c7e9-e2c9-49f5-8858-54f9cde884e8",
   "metadata": {},
   "outputs": [
    {
     "data": {
      "text/plain": [
       "array(['Yes', 'No', \"I don't know\"], dtype=object)"
      ]
     },
     "execution_count": 19,
     "metadata": {},
     "output_type": "execute_result"
    }
   ],
   "source": [
    "df.family_history.unique()"
   ]
  },
  {
   "cell_type": "code",
   "execution_count": 20,
   "id": "4b35e3e6-5f67-4c20-abe5-42ce870c3189",
   "metadata": {},
   "outputs": [
    {
     "data": {
      "text/plain": [
       "array([57, 29, 46, 34, 55, 35, 33, 37, 45, 31, 38, 26, 27, 47, 32, 36, 30,\n",
       "       44, 19, 61, 52, 39, 28, 43, 42, 24, 25, 23, 20, 41, 40, 22, 53, 67,\n",
       "       56, 54, 49, 21, 51, 48, 65, 50, 58, 64, 60, 63, 59])"
      ]
     },
     "execution_count": 20,
     "metadata": {},
     "output_type": "execute_result"
    }
   ],
   "source": [
    "df.age.unique()"
   ]
  },
  {
   "cell_type": "code",
   "execution_count": 21,
   "id": "10a1e4b5-a7fc-4531-ba6a-9b424043e626",
   "metadata": {},
   "outputs": [
    {
     "data": {
      "text/plain": [
       "array(['female', 'male', 'other', 'trans'], dtype=object)"
      ]
     },
     "execution_count": 21,
     "metadata": {},
     "output_type": "execute_result"
    }
   ],
   "source": [
    "df.gender.unique()"
   ]
  },
  {
   "cell_type": "code",
   "execution_count": 22,
   "id": "0b57b732-8d76-4e40-af26-560ed0329a6a",
   "metadata": {},
   "outputs": [
    {
     "data": {
      "text/plain": [
       "array([150, 160])"
      ]
     },
     "execution_count": 22,
     "metadata": {},
     "output_type": "execute_result"
    }
   ],
   "source": [
    "df.physical_activity.unique()"
   ]
  },
  {
   "cell_type": "code",
   "execution_count": 23,
   "id": "1edea063-4c3f-420e-b244-31f08f511e31",
   "metadata": {},
   "outputs": [
    {
     "data": {
      "text/plain": [
       "array([7, 8])"
      ]
     },
     "execution_count": 23,
     "metadata": {},
     "output_type": "execute_result"
    }
   ],
   "source": [
    "df.sleep.unique()"
   ]
  },
  {
   "cell_type": "code",
   "execution_count": 24,
   "id": "d4c686a2-6878-4f76-86d8-e54b1238da5b",
   "metadata": {},
   "outputs": [
    {
     "name": "stdout",
     "output_type": "stream",
     "text": [
      "label_mental_health_benefits [\"I don't know\", 'NaN', 'No', 'Not eligible for coverage / NA', 'Yes']\n",
      "label_learning_resources ['Does your employer offer resources to learn more about mental health disorders and options for seeking help?', \"I don't know\", 'NaN', 'No', 'Yes']\n",
      "label_anonymity [\"I don't know\", 'NaN', 'No', 'Yes']\n",
      "label_medical_leave ['Difficult', \"I don't know\", 'NaN', 'Neither easy nor difficult', 'Somewhat difficult', 'Somewhat easy', 'Very easy']\n",
      "label_medical_coverage ['0', '1', 'NaN']\n",
      "label_mental_health_disorder [\"Don't Know\", 'No', 'Possibly', 'Yes']\n",
      "label_diagnosed ['NaN', 'No', 'Yes']\n",
      "label_past_mental_health_disorder [\"Don't Know\", 'NaN', 'No', 'Possibly', 'Yes']\n",
      "label_sought_treatment ['0', '1']\n",
      "label_family_history [\"I don't know\", 'No', 'Yes']\n",
      "label_work_interference ['Never', 'Not applicable to me', 'Often', 'Rarely', 'Sometimes']\n",
      "label_gender ['female', 'male', 'other', 'trans']\n",
      "label_race ['American Indian or Alaska Native', 'Asian', 'Black or African American', 'Caucasian', 'European American', 'Hispanic', 'I prefer not to answer', 'More than one of the above', 'NaN', 'White', 'White Hispanic']\n",
      "label_country ['Afghanistan', 'Algeria', 'Australia', 'Austria', 'Bangladesh', 'Belgium', 'Botswana', 'Brazil', 'Cameroon', 'Canada', 'Colombia', 'Croatia', 'Estonia', 'Ethiopia', 'Finland', 'France', 'Georgia', 'Germany', 'Ghana', 'Greece', 'Hong Kong', 'Iceland', 'India', 'Indonesia', 'Ireland', 'Israel', 'Italy', 'Japan', 'Kenya', 'Macedonia', 'Mauritius', 'Mexico', 'Mongolia', 'Netherlands', 'New Zealand', 'Nigeria', 'Norway', 'Other', 'Pakistan', 'Poland', 'Portugal', 'Russia', 'Saudi Arabia', 'Serbia', 'South Africa', 'Spain', 'Switzerland', 'Turkey', 'Ukraine', 'United Kingdom', 'United States of America', 'Uruguay']\n",
      "label_physical_activity [150, 160]\n",
      "label_sleep [7, 8]\n"
     ]
    },
    {
     "data": {
      "text/html": [
       "<div>\n",
       "<style scoped>\n",
       "    .dataframe tbody tr th:only-of-type {\n",
       "        vertical-align: middle;\n",
       "    }\n",
       "\n",
       "    .dataframe tbody tr th {\n",
       "        vertical-align: top;\n",
       "    }\n",
       "\n",
       "    .dataframe thead th {\n",
       "        text-align: right;\n",
       "    }\n",
       "</style>\n",
       "<table border=\"1\" class=\"dataframe\">\n",
       "  <thead>\n",
       "    <tr style=\"text-align: right;\">\n",
       "      <th></th>\n",
       "      <th>mental_health_benefits</th>\n",
       "      <th>learning_resources</th>\n",
       "      <th>anonymity</th>\n",
       "      <th>medical_leave</th>\n",
       "      <th>medical_coverage</th>\n",
       "      <th>mental_health_disorder</th>\n",
       "      <th>diagnosed</th>\n",
       "      <th>past_mental_health_disorder</th>\n",
       "      <th>sought_treatment</th>\n",
       "      <th>family_history</th>\n",
       "      <th>work_interference</th>\n",
       "      <th>age</th>\n",
       "      <th>gender</th>\n",
       "      <th>race</th>\n",
       "      <th>country</th>\n",
       "      <th>physical_activity</th>\n",
       "      <th>sleep</th>\n",
       "    </tr>\n",
       "  </thead>\n",
       "  <tbody>\n",
       "    <tr>\n",
       "      <th>0</th>\n",
       "      <td>4</td>\n",
       "      <td>4</td>\n",
       "      <td>3</td>\n",
       "      <td>4</td>\n",
       "      <td>2</td>\n",
       "      <td>2</td>\n",
       "      <td>0</td>\n",
       "      <td>4</td>\n",
       "      <td>1</td>\n",
       "      <td>2</td>\n",
       "      <td>3</td>\n",
       "      <td>57</td>\n",
       "      <td>0</td>\n",
       "      <td>8</td>\n",
       "      <td>9</td>\n",
       "      <td>0</td>\n",
       "      <td>0</td>\n",
       "    </tr>\n",
       "    <tr>\n",
       "      <th>1</th>\n",
       "      <td>4</td>\n",
       "      <td>1</td>\n",
       "      <td>0</td>\n",
       "      <td>4</td>\n",
       "      <td>2</td>\n",
       "      <td>3</td>\n",
       "      <td>2</td>\n",
       "      <td>4</td>\n",
       "      <td>1</td>\n",
       "      <td>2</td>\n",
       "      <td>4</td>\n",
       "      <td>29</td>\n",
       "      <td>1</td>\n",
       "      <td>9</td>\n",
       "      <td>50</td>\n",
       "      <td>0</td>\n",
       "      <td>0</td>\n",
       "    </tr>\n",
       "    <tr>\n",
       "      <th>2</th>\n",
       "      <td>4</td>\n",
       "      <td>3</td>\n",
       "      <td>0</td>\n",
       "      <td>5</td>\n",
       "      <td>2</td>\n",
       "      <td>1</td>\n",
       "      <td>0</td>\n",
       "      <td>2</td>\n",
       "      <td>0</td>\n",
       "      <td>2</td>\n",
       "      <td>1</td>\n",
       "      <td>46</td>\n",
       "      <td>1</td>\n",
       "      <td>9</td>\n",
       "      <td>50</td>\n",
       "      <td>0</td>\n",
       "      <td>0</td>\n",
       "    </tr>\n",
       "    <tr>\n",
       "      <th>3</th>\n",
       "      <td>2</td>\n",
       "      <td>3</td>\n",
       "      <td>0</td>\n",
       "      <td>3</td>\n",
       "      <td>2</td>\n",
       "      <td>1</td>\n",
       "      <td>0</td>\n",
       "      <td>2</td>\n",
       "      <td>0</td>\n",
       "      <td>1</td>\n",
       "      <td>1</td>\n",
       "      <td>34</td>\n",
       "      <td>1</td>\n",
       "      <td>8</td>\n",
       "      <td>36</td>\n",
       "      <td>0</td>\n",
       "      <td>0</td>\n",
       "    </tr>\n",
       "    <tr>\n",
       "      <th>4</th>\n",
       "      <td>4</td>\n",
       "      <td>4</td>\n",
       "      <td>3</td>\n",
       "      <td>5</td>\n",
       "      <td>2</td>\n",
       "      <td>3</td>\n",
       "      <td>2</td>\n",
       "      <td>4</td>\n",
       "      <td>1</td>\n",
       "      <td>2</td>\n",
       "      <td>3</td>\n",
       "      <td>29</td>\n",
       "      <td>1</td>\n",
       "      <td>9</td>\n",
       "      <td>50</td>\n",
       "      <td>0</td>\n",
       "      <td>0</td>\n",
       "    </tr>\n",
       "  </tbody>\n",
       "</table>\n",
       "</div>"
      ],
      "text/plain": [
       "   mental_health_benefits  learning_resources  anonymity  medical_leave  \\\n",
       "0                       4                   4          3              4   \n",
       "1                       4                   1          0              4   \n",
       "2                       4                   3          0              5   \n",
       "3                       2                   3          0              3   \n",
       "4                       4                   4          3              5   \n",
       "\n",
       "   medical_coverage  mental_health_disorder  diagnosed  \\\n",
       "0                 2                       2          0   \n",
       "1                 2                       3          2   \n",
       "2                 2                       1          0   \n",
       "3                 2                       1          0   \n",
       "4                 2                       3          2   \n",
       "\n",
       "   past_mental_health_disorder  sought_treatment  family_history  \\\n",
       "0                            4                 1               2   \n",
       "1                            4                 1               2   \n",
       "2                            2                 0               2   \n",
       "3                            2                 0               1   \n",
       "4                            4                 1               2   \n",
       "\n",
       "   work_interference  age  gender  race  country  physical_activity  sleep  \n",
       "0                  3   57       0     8        9                  0      0  \n",
       "1                  4   29       1     9       50                  0      0  \n",
       "2                  1   46       1     9       50                  0      0  \n",
       "3                  1   34       1     8       36                  0      0  \n",
       "4                  3   29       1     9       50                  0      0  "
      ]
     },
     "execution_count": 24,
     "metadata": {},
     "output_type": "execute_result"
    }
   ],
   "source": [
    "from sklearn import preprocessing\n",
    "\n",
    "labelDict = {}\n",
    "for i in df:\n",
    "    if i != 'age':\n",
    "        le = preprocessing.LabelEncoder()\n",
    "        le.fit(df[i])\n",
    "        le_name_mapping = dict(zip(le.classes_, le.transform(le.classes_)))\n",
    "        df[i] = le.transform(df[i])\n",
    "        # Get labels\n",
    "        labelKey = 'label_' + i\n",
    "        labelValue = [*le_name_mapping]\n",
    "        labelDict[labelKey] =labelValue\n",
    "\n",
    "for key, value in labelDict.items():     \n",
    "    print(key, value)\n",
    "df.head()"
   ]
  },
  {
   "cell_type": "code",
   "execution_count": 25,
   "id": "f4aa21c7-c806-4422-b235-d46eb85b366a",
   "metadata": {},
   "outputs": [
    {
     "data": {
      "text/plain": [
       "array([57, 29, 46, 34, 55, 35, 33, 37, 45, 31, 38, 26, 27, 47, 32, 36, 30,\n",
       "       44, 19, 61, 52, 39, 28, 43, 42, 24, 25, 23, 20, 41, 40, 22, 53, 67,\n",
       "       56, 54, 49, 21, 51, 48, 65, 50, 58, 64, 60, 63, 59])"
      ]
     },
     "execution_count": 25,
     "metadata": {},
     "output_type": "execute_result"
    }
   ],
   "source": [
    "df.age.unique()"
   ]
  },
  {
   "cell_type": "code",
   "execution_count": 26,
   "id": "8d3e5fc3-89fb-4cc3-9708-b277d179df9a",
   "metadata": {},
   "outputs": [
    {
     "data": {
      "text/plain": [
       "array([0, 1])"
      ]
     },
     "execution_count": 26,
     "metadata": {},
     "output_type": "execute_result"
    }
   ],
   "source": [
    "df.physical_activity.unique()"
   ]
  },
  {
   "cell_type": "code",
   "execution_count": 27,
   "id": "6a9526e3-0c0b-4133-a4f5-1daef845b78e",
   "metadata": {},
   "outputs": [
    {
     "name": "stdout",
     "output_type": "stream",
     "text": [
      "                             Total  Percent\n",
      "mental_health_benefits           0      0.0\n",
      "family_history                   0      0.0\n",
      "physical_activity                0      0.0\n",
      "country                          0      0.0\n",
      "race                             0      0.0\n",
      "gender                           0      0.0\n",
      "age                              0      0.0\n",
      "work_interference                0      0.0\n",
      "sought_treatment                 0      0.0\n",
      "learning_resources               0      0.0\n",
      "past_mental_health_disorder      0      0.0\n",
      "diagnosed                        0      0.0\n",
      "mental_health_disorder           0      0.0\n",
      "medical_coverage                 0      0.0\n",
      "medical_leave                    0      0.0\n",
      "anonymity                        0      0.0\n",
      "sleep                            0      0.0\n"
     ]
    }
   ],
   "source": [
    "# final check for missing data\n",
    "total = df.isnull().sum().sort_values(ascending=False)\n",
    "percent = (df.isnull().sum()/df.isnull().count()).sort_values(ascending=False)\n",
    "missing_data = pd.concat([total, percent], axis=1, keys=['Total', 'Percent'])\n",
    "missing_data.head(20)\n",
    "print(missing_data)"
   ]
  },
  {
   "cell_type": "code",
   "execution_count": 28,
   "id": "e86e4a02-d785-40f3-a7be-af76d8975eb5",
   "metadata": {},
   "outputs": [
    {
     "data": {
      "text/plain": [
       "(789, 17)"
      ]
     },
     "execution_count": 28,
     "metadata": {},
     "output_type": "execute_result"
    }
   ],
   "source": [
    "df.shape"
   ]
  },
  {
   "cell_type": "code",
   "execution_count": 29,
   "id": "7e336d0c-14f4-4e46-a503-d15070aee2cb",
   "metadata": {},
   "outputs": [
    {
     "data": {
      "image/png": "[encoded data removed]",
      "text/plain": [
       "<Figure size 864x648 with 2 Axes>"
      ]
     },
     "metadata": {
      "needs_background": "light"
     },
     "output_type": "display_data"
    }
   ],
   "source": [
    "#correlation matrix\n",
    "import seaborn as sns\n",
    "matrix = df.corr()\n",
    "f, ax = plt.subplots(figsize=(12, 9))\n",
    "heatmap = sns.heatmap(matrix, vmax=.8, square=True);\n",
    "heatmap.set_title('Correlation Heatmap', fontdict={'fontsize':12}, pad=12);\n",
    "plt.show()"
   ]
  },
  {
   "cell_type": "code",
   "execution_count": 30,
   "id": "3a8d16e6-3ef1-466b-b7c3-e7481db2da39",
   "metadata": {},
   "outputs": [
    {
     "data": {
      "image/png": "[encoded data removed]",
      "text/plain": [
       "<Figure size 576x864 with 2 Axes>"
      ]
     },
     "metadata": {
      "needs_background": "light"
     },
     "output_type": "display_data"
    }
   ],
   "source": [
    "plt.figure(figsize=(8, 12))\n",
    "heatmap2 = sns.heatmap(df.corr()[['sought_treatment']].sort_values(by='sought_treatment', ascending=False), vmin=-1, vmax=1, annot=True, cmap='BrBG')\n",
    "heatmap2.set_title('Features Correlating with Willingness to Seek Treatment', fontdict={'fontsize':18}, pad=16);"
   ]
  },
  {
   "cell_type": "code",
   "execution_count": 31,
   "id": "58cb420d-8bda-4d7a-9587-714dbfa1fbcf",
   "metadata": {},
   "outputs": [
    {
     "data": {
      "text/plain": [
       "Text(0.5, 0, 'Age')"
      ]
     },
     "execution_count": 31,
     "metadata": {},
     "output_type": "execute_result"
    },
    {
     "data": {
      "image/png": "[encoded data removed]",
      "text/plain": [
       "<Figure size 864x576 with 1 Axes>"
      ]
     },
     "metadata": {
      "needs_background": "light"
     },
     "output_type": "display_data"
    }
   ],
   "source": [
    "# Distribiution and density by Age\n",
    "import matplotlib.pyplot as plt\n",
    "plt.figure(figsize=(12,8))\n",
    "sns.histplot(df[\"age\"], bins=24)\n",
    "plt.title(\"Distribution of Participants by Age\")\n",
    "plt.xlabel(\"Age\")"
   ]
  },
  {
   "cell_type": "code",
   "execution_count": 32,
   "id": "579c4d33-1724-45bc-893f-4d18b25a1cb9",
   "metadata": {},
   "outputs": [
    {
     "data": {
      "image/png": "[encoded data removed]",
      "text/plain": [
       "<Figure size 720x360 with 2 Axes>"
      ]
     },
     "metadata": {
      "needs_background": "light"
     },
     "output_type": "display_data"
    }
   ],
   "source": [
    "# Age vs treatment and age vs no treatment\n",
    "j = sns.FacetGrid(df, col='sought_treatment', height=5)\n",
    "j = j.map(sns.histplot, \"age\")"
   ]
  },
  {
   "cell_type": "code",
   "execution_count": 33,
   "id": "05a22a49-d121-41b7-8fa3-b73690555c86",
   "metadata": {},
   "outputs": [
    {
     "data": {
      "text/plain": [
       "Text(0.5, 1.0, 'Total Distribution by treated or not')"
      ]
     },
     "execution_count": 33,
     "metadata": {},
     "output_type": "execute_result"
    },
    {
     "data": {
      "image/png": "[encoded data removed]",
      "text/plain": [
       "<Figure size 864x576 with 1 Axes>"
      ]
     },
     "metadata": {
      "needs_background": "light"
     },
     "output_type": "display_data"
    }
   ],
   "source": [
    "# How many people have been treated\n",
    "\n",
    "plt.figure(figsize=(12,8))\n",
    "labels = labelDict['label_sought_treatment']\n",
    "g = sns.countplot(x='sought_treatment', data=df)\n",
    "g.set_xticklabels(labels)\n",
    "\n",
    "plt.title('Total Distribution by treated or not')"
   ]
  },
  {
   "cell_type": "code",
   "execution_count": 34,
   "id": "4d2dbb67-ec8b-4592-a82c-b17aea7ec465",
   "metadata": {},
   "outputs": [],
   "source": [
    "# Split x and y\n",
    "feature_cols = ['mental_health_benefits','family_history','physical_activity','age', 'gender',\n",
    "                'work_interference','learning_resources','past_mental_health_disorder',\n",
    "                'medical_coverage','medical_leave','anonymity','sleep', 'mental_health_disorder', 'diagnosed', 'work_interference']\n",
    "x = df[feature_cols]\n",
    "y = df.sought_treatment"
   ]
  },
  {
   "cell_type": "code",
   "execution_count": 35,
   "id": "c28ac8e3-513c-49b1-b3b6-016e3c36ef5e",
   "metadata": {},
   "outputs": [],
   "source": [
    "# Scale x\n",
    "from sklearn.preprocessing import StandardScaler\n",
    "scaler = StandardScaler()\n",
    "scaler.fit(x)\n",
    "X = scaler.transform(x)"
   ]
  },
  {
   "cell_type": "code",
   "execution_count": 36,
   "id": "7b6b30c7-53df-40b4-8d4f-8228fe9cd56b",
   "metadata": {},
   "outputs": [],
   "source": [
    "# Split x and y \n",
    "xtr, xts, ytr, yts = train_test_split(X, y, test_size=0.35, random_state=0)"
   ]
  },
  {
   "cell_type": "code",
   "execution_count": 37,
   "id": "e397082b-93b8-4e66-862b-f5ab21619661",
   "metadata": {},
   "outputs": [
    {
     "data": {
      "text/plain": [
       "LogisticRegression(max_iter=10000)"
      ]
     },
     "execution_count": 37,
     "metadata": {},
     "output_type": "execute_result"
    }
   ],
   "source": [
    "# Create LR Model\n",
    "from sklearn.linear_model import LogisticRegression\n",
    "from sklearn import metrics\n",
    "df_lr = LogisticRegression(max_iter= 10000)\n",
    "df_lr.fit(xtr,ytr)"
   ]
  },
  {
   "cell_type": "code",
   "execution_count": 38,
   "id": "d759c83a-2df2-4e36-a3ce-f52b9ef69939",
   "metadata": {},
   "outputs": [],
   "source": [
    "ypred = df_lr.predict(xts)"
   ]
  },
  {
   "cell_type": "code",
   "execution_count": 39,
   "id": "007660cc-1efd-4e33-a0c1-14449d1becb0",
   "metadata": {
    "tags": []
   },
   "outputs": [],
   "source": [
    "# Create a 1R Baseline Model \n",
    "# This will be our Dummy Classifier\n",
    "# F1 score = 0.383, Precision = 0.380, Recall = 0.5"
   ]
  },
  {
   "cell_type": "code",
   "execution_count": 40,
   "id": "6a4f6531-f430-4dee-aebf-e57e0dbc7afc",
   "metadata": {},
   "outputs": [],
   "source": [
    "import dabl"
   ]
  },
  {
   "cell_type": "code",
   "execution_count": 41,
   "id": "09145975-81da-4067-82f2-9f2b1f8811b4",
   "metadata": {},
   "outputs": [
    {
     "name": "stdout",
     "output_type": "stream",
     "text": [
      "[0 1 0 1 1 1 1 1 0 0 1 1 1 1 1 1 1 1 0 0 0 0 1 0 1 0 0 0 1 0 0 0 1 0 1 1 0\n",
      " 0 1 0 1 1 1 1 1 1 0 1 1 1 0 0 1 0 0 0 0 1 1 1 1 1 0 1 1 1 1 0 1 1 1 1 0 1\n",
      " 1 0 0 0 1 1 0 1 0 0 0 0 1 1 1 1 1 1 1 0 0 0 1 0 1 0 0 1 1 0 1 1 1 1 0 1 1\n",
      " 1 0 1 0 0 0 0 1 1 0 1 0 1 1 1 1 0 1 0 1 1 1 0 0 0 1 1 0 1 0 0 1 0 0 1 1 0\n",
      " 0 1 0 1 1 0 1 0 1 1 1 1 1 1 0 1 0 1 0 0 0 1 1 1 1 1 1 0 0 1 0 1 1 1 0 0 0\n",
      " 1 0 0 1 0 1 0 1 1 0 1 1 0 1 1 1 0 1 0 1 1 1 0 1 1 1 1 1 0 1 0 1 1 0 0 0 1\n",
      " 0 1 1 1 1 0 1 1 1 1 1 1 1 0 1 1 1 1 0 1 0 1 1 0 1 1 0 1 1 1 0 1 0 1 0 1 0\n",
      " 1 1 0 1 1 1 0 1 0 0 0 1 1 1 1 1 0 0]\n"
     ]
    }
   ],
   "source": [
    "print(ypred)"
   ]
  },
  {
   "cell_type": "code",
   "execution_count": 63,
   "id": "16bce418-540f-4069-9271-8bf5e9894404",
   "metadata": {},
   "outputs": [
    {
     "data": {
      "text/plain": [
       "array([[ 82,  16],\n",
       "       [ 28, 151]])"
      ]
     },
     "execution_count": 63,
     "metadata": {},
     "output_type": "execute_result"
    }
   ],
   "source": [
    "# Confusion Matrix\n",
    "from sklearn.metrics import confusion_matrix\n",
    "confusion_matrix(yts, ypred)"
   ]
  },
  {
   "cell_type": "code",
   "execution_count": 43,
   "id": "9c367752-bdff-47b7-a0af-25b5b8bc759d",
   "metadata": {},
   "outputs": [
    {
     "data": {
      "text/plain": [
       "0.8411552346570397"
      ]
     },
     "execution_count": 43,
     "metadata": {},
     "output_type": "execute_result"
    }
   ],
   "source": [
    "df_lr.score(xts, yts)"
   ]
  },
  {
   "cell_type": "code",
   "execution_count": 44,
   "id": "c20a6921-69e8-48b9-94c7-20daa6bb9f0d",
   "metadata": {},
   "outputs": [
    {
     "data": {
      "text/plain": [
       "0.8375451263537906"
      ]
     },
     "execution_count": 44,
     "metadata": {},
     "output_type": "execute_result"
    }
   ],
   "source": [
    "# Trying Random Forest Classification\n",
    "from sklearn.ensemble import RandomForestClassifier\n",
    "df_rf = RandomForestClassifier(n_estimators = 50)\n",
    "df_rf.fit(xtr, ytr)\n",
    "df_rf.score(xts, yts)"
   ]
  },
  {
   "cell_type": "code",
   "execution_count": 45,
   "id": "7d13c881-6db1-4cd6-a783-443d5ebbf796",
   "metadata": {},
   "outputs": [
    {
     "data": {
      "text/plain": [
       "0.8411552346570397"
      ]
     },
     "execution_count": 45,
     "metadata": {},
     "output_type": "execute_result"
    }
   ],
   "source": [
    "# Trying Support Vector Machine (SVC)\n",
    "from sklearn.svm import SVC\n",
    "df_svm = SVC()\n",
    "df_svm.fit(xtr, ytr)\n",
    "df_svm.score(xts, yts)"
   ]
  },
  {
   "cell_type": "code",
   "execution_count": 65,
   "id": "f24d3bd6-4b28-49c1-a6e9-6657f2fe2145",
   "metadata": {},
   "outputs": [
    {
     "name": "stdout",
     "output_type": "stream",
     "text": [
      "              precision    recall  f1-score   support\n",
      "\n",
      "           0       0.75      0.84      0.79        98\n",
      "           1       0.90      0.84      0.87       179\n",
      "\n",
      "    accuracy                           0.84       277\n",
      "   macro avg       0.82      0.84      0.83       277\n",
      "weighted avg       0.85      0.84      0.84       277\n",
      "\n"
     ]
    }
   ],
   "source": [
    "print(metrics.classification_report(yts, ypred))"
   ]
  },
  {
   "cell_type": "code",
   "execution_count": 48,
   "id": "225874c3-ecff-4afc-95a5-3e13c1a0346c",
   "metadata": {},
   "outputs": [],
   "source": [
    "# Creating Decision Trees"
   ]
  },
  {
   "cell_type": "code",
   "execution_count": 49,
   "id": "8d9f7be5-4db9-40e5-bd7c-2a563084dba0",
   "metadata": {},
   "outputs": [],
   "source": [
    "# define X and y\n",
    "feature_cols = ['mental_health_benefits','family_history','physical_activity','age', 'gender',\n",
    "                'work_interference','learning_resources','past_mental_health_disorder',\n",
    "                'medical_coverage','medical_leave','anonymity','sleep', 'mental_health_disorder', 'diagnosed']\n",
    "X = df[feature_cols]\n",
    "y = df.sought_treatment\n",
    "# split X and y \n",
    "xtr, xts, ytr, yts = train_test_split(X, y, test_size=0.35, random_state=0)"
   ]
  },
  {
   "cell_type": "code",
   "execution_count": 50,
   "id": "03b96d78-a2f8-4be2-9ddd-1f226b0428fb",
   "metadata": {},
   "outputs": [
    {
     "name": "stdout",
     "output_type": "stream",
     "text": [
      "classification accuracy: 0.8339350180505415\n"
     ]
    }
   ],
   "source": [
    "from sklearn.tree import DecisionTreeClassifier\n",
    "from scipy.stats import randint\n",
    "def treeClassifier():\n",
    "    # Calculating the best parameters\n",
    "    tree = DecisionTreeClassifier()\n",
    "    featuresSize = feature_cols.__len__()\n",
    "    param_dist = {\"max_depth\": [3, None],\n",
    "              \"max_features\": randint(1, featuresSize),\n",
    "              \"min_samples_split\": randint(2, 9),\n",
    "              \"min_samples_leaf\": randint(1, 9),\n",
    "              \"criterion\": [\"gini\", \"entropy\"]}\n",
    "    \n",
    "    # train and prune a decision tree model on the training set\n",
    "    tree = DecisionTreeClassifier(max_depth=3, min_samples_split=8, max_features=6, criterion='entropy', min_samples_leaf=7)\n",
    "    tree.fit(xtr, ytr)\n",
    "    \n",
    "    # make class predictions for the testing set\n",
    "    ypred = tree.predict(xts)\n",
    "    \n",
    "    accuracy = metrics.accuracy_score(yts, ypred)\n",
    "    print('classification accuracy:', accuracy)\n",
    "\n",
    "treeClassifier()"
   ]
  },
  {
   "cell_type": "code",
   "execution_count": 66,
   "id": "60ba4376-f44e-4042-901c-b21bc1bf0ee9",
   "metadata": {},
   "outputs": [
    {
     "name": "stdout",
     "output_type": "stream",
     "text": [
      "Running DummyClassifier()\n",
      "accuracy: 0.599 average_precision: 0.401 roc_auc: 0.500 recall_macro: 0.500 f1_macro: 0.375\n",
      "=== new best DummyClassifier() (using recall_macro):\n",
      "accuracy: 0.599 average_precision: 0.401 roc_auc: 0.500 recall_macro: 0.500 f1_macro: 0.375\n",
      "\n",
      "Running GaussianNB()\n",
      "accuracy: 0.819 average_precision: 0.881 roc_auc: 0.922 recall_macro: 0.837 f1_macro: 0.818\n",
      "=== new best GaussianNB() (using recall_macro):\n",
      "accuracy: 0.819 average_precision: 0.881 roc_auc: 0.922 recall_macro: 0.837 f1_macro: 0.818\n",
      "\n",
      "Running MultinomialNB()\n",
      "accuracy: 0.857 average_precision: 0.897 roc_auc: 0.935 recall_macro: 0.864 f1_macro: 0.855\n",
      "=== new best MultinomialNB() (using recall_macro):\n",
      "accuracy: 0.857 average_precision: 0.897 roc_auc: 0.935 recall_macro: 0.864 f1_macro: 0.855\n",
      "\n",
      "Running DecisionTreeClassifier(class_weight='balanced', max_depth=1)\n",
      "accuracy: 0.784 average_precision: 0.648 roc_auc: 0.810 recall_macro: 0.810 f1_macro: 0.784\n",
      "Running DecisionTreeClassifier(class_weight='balanced', max_depth=5)\n",
      "accuracy: 0.832 average_precision: 0.787 roc_auc: 0.876 recall_macro: 0.838 f1_macro: 0.828\n",
      "Running DecisionTreeClassifier(class_weight='balanced', min_impurity_decrease=0.01)\n",
      "accuracy: 0.856 average_precision: 0.818 roc_auc: 0.903 recall_macro: 0.865 f1_macro: 0.853\n",
      "=== new best DecisionTreeClassifier(class_weight='balanced', min_impurity_decrease=0.01) (using recall_macro):\n",
      "accuracy: 0.856 average_precision: 0.818 roc_auc: 0.903 recall_macro: 0.865 f1_macro: 0.853\n",
      "\n",
      "Running LogisticRegression(C=0.1, class_weight='balanced', max_iter=1000)\n",
      "accuracy: 0.865 average_precision: 0.897 roc_auc: 0.064 recall_macro: 0.872 f1_macro: 0.863\n",
      "=== new best LogisticRegression(C=0.1, class_weight='balanced', max_iter=1000) (using recall_macro):\n",
      "accuracy: 0.865 average_precision: 0.897 roc_auc: 0.064 recall_macro: 0.872 f1_macro: 0.863\n",
      "\n",
      "Running LogisticRegression(class_weight='balanced', max_iter=1000)\n",
      "accuracy: 0.854 average_precision: 0.888 roc_auc: 0.068 recall_macro: 0.859 f1_macro: 0.851\n",
      "\n",
      "Best model:\n",
      "LogisticRegression(C=0.1, class_weight='balanced', max_iter=1000)\n",
      "Best Scores:\n",
      "accuracy: 0.865 average_precision: 0.897 roc_auc: 0.064 recall_macro: 0.872 f1_macro: 0.863\n",
      "Accuracy score 0.8607594936708861\n"
     ]
    }
   ],
   "source": [
    "# Seeing which Models work Best\n",
    "features = ['mental_health_benefits','family_history','physical_activity','age', 'gender',\n",
    "                'work_interference','learning_resources','past_mental_health_disorder',\n",
    "                'medical_coverage','medical_leave','anonymity','sleep', 'mental_health_disorder', 'diagnosed']\n",
    "x = df[feature_cols]\n",
    "y = df.sought_treatment\n",
    "X_train, X_test, Y_train, Y_test = train_test_split(x, y, test_size = 0.2)\n",
    "sc = dabl.SimpleClassifier().fit(X_train, Y_train)\n",
    "print(\"Accuracy score\", sc.score(X_test, Y_test))"
   ]
  },
  {
   "cell_type": "code",
   "execution_count": 53,
   "id": "5a1b7eac-c247-426f-a38f-2717ea517963",
   "metadata": {},
   "outputs": [],
   "source": [
    "# Shows us Best Model will either be Logistic Regression or Decision Tree Classifier, but we tried LR, DTC, SVC, and Random Forest to see for ourselves."
   ]
  },
  {
   "cell_type": "code",
   "execution_count": 51,
   "id": "d9f6e975-3e65-41f2-abb4-244dc4817e47",
   "metadata": {},
   "outputs": [],
   "source": [
    "# Creating Decision Tree Visualization"
   ]
  },
  {
   "cell_type": "code",
   "execution_count": 54,
   "id": "0460ec9a-daf9-4dbe-9667-b38d116666ae",
   "metadata": {},
   "outputs": [
    {
     "data": {
      "image/png": "[encoded data removed]",
      "text/plain": [
       "<Figure size 432x288 with 1 Axes>"
      ]
     },
     "metadata": {
      "needs_background": "light"
     },
     "output_type": "display_data"
    }
   ],
   "source": [
    "import graphviz\n",
    "import sklearn.tree as sk\n",
    "from sklearn import tree\n",
    "import graphviz\n",
    "from sklearn.tree import export_graphviz\n",
    "\n",
    "model=tree.DecisionTreeClassifier(max_depth=3,criterion='entropy')\n",
    "model.fit(xtr,ytr)\n",
    "\n",
    "sk.plot_tree(model)\n",
    "plt.show()"
   ]
  },
  {
   "cell_type": "code",
   "execution_count": 55,
   "id": "d36586f4-3cb4-459f-bfb1-892b4cf7c156",
   "metadata": {},
   "outputs": [],
   "source": [
    "from graphviz import Source\n",
    "from sklearn import tree"
   ]
  },
  {
   "cell_type": "code",
   "execution_count": 56,
   "id": "243e3434-9525-4731-9586-db3344dbcbe5",
   "metadata": {},
   "outputs": [
    {
     "data": {
      "image/svg+xml": [
       "<?xml version=\"1.0\" encoding=\"UTF-8\" standalone=\"no\"?>\n",
       "<!DOCTYPE svg PUBLIC \"-//W3C//DTD SVG 1.1//EN\"\n",
       " \"http://www.w3.org/Graphics/SVG/1.1/DTD/svg11.dtd\">\n",
       "<!-- Generated by graphviz version 2.40.1 (20161225.0304)\n",
       " -->\n",
       "<!-- Title: Tree Pages: 1 -->\n",
       "<svg width=\"990pt\" height=\"373pt\"\n",
       " viewBox=\"0.00 0.00 989.50 373.00\" xmlns=\"http://www.w3.org/2000/svg\" xmlns:xlink=\"http://www.w3.org/1999/xlink\">\n",
       "<g id=\"graph0\" class=\"graph\" transform=\"scale(1 1) rotate(0) translate(4 369)\">\n",
       "<title>Tree</title>\n",
       "<polygon fill=\"#ffffff\" stroke=\"transparent\" points=\"-4,4 -4,-369 985.5,-369 985.5,4 -4,4\"/>\n",
       "<!-- 0 -->\n",
       "<g id=\"node1\" class=\"node\">\n",
       "<title>0</title>\n",
       "<polygon fill=\"none\" stroke=\"#000000\" points=\"550.5,-365 430.5,-365 430.5,-297 550.5,-297 550.5,-365\"/>\n",
       "<text text-anchor=\"middle\" x=\"490.5\" y=\"-349.8\" font-family=\"Times,serif\" font-size=\"14.00\" fill=\"#000000\">X[7] &lt;= 3.5</text>\n",
       "<text text-anchor=\"middle\" x=\"490.5\" y=\"-334.8\" font-family=\"Times,serif\" font-size=\"14.00\" fill=\"#000000\">entropy = 0.966</text>\n",
       "<text text-anchor=\"middle\" x=\"490.5\" y=\"-319.8\" font-family=\"Times,serif\" font-size=\"14.00\" fill=\"#000000\">samples = 512</text>\n",
       "<text text-anchor=\"middle\" x=\"490.5\" y=\"-304.8\" font-family=\"Times,serif\" font-size=\"14.00\" fill=\"#000000\">value = [201, 311]</text>\n",
       "</g>\n",
       "<!-- 1 -->\n",
       "<g id=\"node2\" class=\"node\">\n",
       "<title>1</title>\n",
       "<polygon fill=\"none\" stroke=\"#000000\" points=\"425,-261 312,-261 312,-193 425,-193 425,-261\"/>\n",
       "<text text-anchor=\"middle\" x=\"368.5\" y=\"-245.8\" font-family=\"Times,serif\" font-size=\"14.00\" fill=\"#000000\">X[13] &lt;= 0.5</text>\n",
       "<text text-anchor=\"middle\" x=\"368.5\" y=\"-230.8\" font-family=\"Times,serif\" font-size=\"14.00\" fill=\"#000000\">entropy = 0.899</text>\n",
       "<text text-anchor=\"middle\" x=\"368.5\" y=\"-215.8\" font-family=\"Times,serif\" font-size=\"14.00\" fill=\"#000000\">samples = 279</text>\n",
       "<text text-anchor=\"middle\" x=\"368.5\" y=\"-200.8\" font-family=\"Times,serif\" font-size=\"14.00\" fill=\"#000000\">value = [191, 88]</text>\n",
       "</g>\n",
       "<!-- 0&#45;&gt;1 -->\n",
       "<g id=\"edge1\" class=\"edge\">\n",
       "<title>0&#45;&gt;1</title>\n",
       "<path fill=\"none\" stroke=\"#000000\" d=\"M450.5526,-296.9465C439.5988,-287.6088 427.6127,-277.3911 416.268,-267.7203\"/>\n",
       "<polygon fill=\"#000000\" stroke=\"#000000\" points=\"418.4179,-264.9538 408.5371,-261.13 413.8767,-270.2809 418.4179,-264.9538\"/>\n",
       "<text text-anchor=\"middle\" x=\"410.522\" y=\"-282.3511\" font-family=\"Times,serif\" font-size=\"14.00\" fill=\"#000000\">True</text>\n",
       "</g>\n",
       "<!-- 8 -->\n",
       "<g id=\"node9\" class=\"node\">\n",
       "<title>8</title>\n",
       "<polygon fill=\"none\" stroke=\"#000000\" points=\"675,-261 562,-261 562,-193 675,-193 675,-261\"/>\n",
       "<text text-anchor=\"middle\" x=\"618.5\" y=\"-245.8\" font-family=\"Times,serif\" font-size=\"14.00\" fill=\"#000000\">X[1] &lt;= 1.5</text>\n",
       "<text text-anchor=\"middle\" x=\"618.5\" y=\"-230.8\" font-family=\"Times,serif\" font-size=\"14.00\" fill=\"#000000\">entropy = 0.256</text>\n",
       "<text text-anchor=\"middle\" x=\"618.5\" y=\"-215.8\" font-family=\"Times,serif\" font-size=\"14.00\" fill=\"#000000\">samples = 233</text>\n",
       "<text text-anchor=\"middle\" x=\"618.5\" y=\"-200.8\" font-family=\"Times,serif\" font-size=\"14.00\" fill=\"#000000\">value = [10, 223]</text>\n",
       "</g>\n",
       "<!-- 0&#45;&gt;8 -->\n",
       "<g id=\"edge8\" class=\"edge\">\n",
       "<title>0&#45;&gt;8</title>\n",
       "<path fill=\"none\" stroke=\"#000000\" d=\"M532.412,-296.9465C544.015,-287.519 556.7221,-277.1946 568.7259,-267.4415\"/>\n",
       "<polygon fill=\"#000000\" stroke=\"#000000\" points=\"570.9398,-270.1524 576.4939,-261.13 566.5256,-264.7196 570.9398,-270.1524\"/>\n",
       "<text text-anchor=\"middle\" x=\"573.9214\" y=\"-282.2973\" font-family=\"Times,serif\" font-size=\"14.00\" fill=\"#000000\">False</text>\n",
       "</g>\n",
       "<!-- 2 -->\n",
       "<g id=\"node3\" class=\"node\">\n",
       "<title>2</title>\n",
       "<polygon fill=\"none\" stroke=\"#000000\" points=\"241,-157 128,-157 128,-89 241,-89 241,-157\"/>\n",
       "<text text-anchor=\"middle\" x=\"184.5\" y=\"-141.8\" font-family=\"Times,serif\" font-size=\"14.00\" fill=\"#000000\">X[7] &lt;= 2.5</text>\n",
       "<text text-anchor=\"middle\" x=\"184.5\" y=\"-126.8\" font-family=\"Times,serif\" font-size=\"14.00\" fill=\"#000000\">entropy = 0.753</text>\n",
       "<text text-anchor=\"middle\" x=\"184.5\" y=\"-111.8\" font-family=\"Times,serif\" font-size=\"14.00\" fill=\"#000000\">samples = 236</text>\n",
       "<text text-anchor=\"middle\" x=\"184.5\" y=\"-96.8\" font-family=\"Times,serif\" font-size=\"14.00\" fill=\"#000000\">value = [185, 51]</text>\n",
       "</g>\n",
       "<!-- 1&#45;&gt;2 -->\n",
       "<g id=\"edge2\" class=\"edge\">\n",
       "<title>1&#45;&gt;2</title>\n",
       "<path fill=\"none\" stroke=\"#000000\" d=\"M311.7926,-194.948C292.2005,-183.8742 270.0916,-171.3779 249.8629,-159.9442\"/>\n",
       "<polygon fill=\"#000000\" stroke=\"#000000\" points=\"251.4481,-156.8199 241.0202,-154.9462 248.0036,-162.9138 251.4481,-156.8199\"/>\n",
       "</g>\n",
       "<!-- 5 -->\n",
       "<g id=\"node6\" class=\"node\">\n",
       "<title>5</title>\n",
       "<polygon fill=\"none\" stroke=\"#000000\" points=\"421.5,-157 315.5,-157 315.5,-89 421.5,-89 421.5,-157\"/>\n",
       "<text text-anchor=\"middle\" x=\"368.5\" y=\"-141.8\" font-family=\"Times,serif\" font-size=\"14.00\" fill=\"#000000\">X[8] &lt;= 1.5</text>\n",
       "<text text-anchor=\"middle\" x=\"368.5\" y=\"-126.8\" font-family=\"Times,serif\" font-size=\"14.00\" fill=\"#000000\">entropy = 0.583</text>\n",
       "<text text-anchor=\"middle\" x=\"368.5\" y=\"-111.8\" font-family=\"Times,serif\" font-size=\"14.00\" fill=\"#000000\">samples = 43</text>\n",
       "<text text-anchor=\"middle\" x=\"368.5\" y=\"-96.8\" font-family=\"Times,serif\" font-size=\"14.00\" fill=\"#000000\">value = [6, 37]</text>\n",
       "</g>\n",
       "<!-- 1&#45;&gt;5 -->\n",
       "<g id=\"edge5\" class=\"edge\">\n",
       "<title>1&#45;&gt;5</title>\n",
       "<path fill=\"none\" stroke=\"#000000\" d=\"M368.5,-192.9465C368.5,-184.776 368.5,-175.9318 368.5,-167.3697\"/>\n",
       "<polygon fill=\"#000000\" stroke=\"#000000\" points=\"372.0001,-167.13 368.5,-157.13 365.0001,-167.13 372.0001,-167.13\"/>\n",
       "</g>\n",
       "<!-- 3 -->\n",
       "<g id=\"node4\" class=\"node\">\n",
       "<title>3</title>\n",
       "<polygon fill=\"none\" stroke=\"#000000\" points=\"113,-53 0,-53 0,0 113,0 113,-53\"/>\n",
       "<text text-anchor=\"middle\" x=\"56.5\" y=\"-37.8\" font-family=\"Times,serif\" font-size=\"14.00\" fill=\"#000000\">entropy = 0.581</text>\n",
       "<text text-anchor=\"middle\" x=\"56.5\" y=\"-22.8\" font-family=\"Times,serif\" font-size=\"14.00\" fill=\"#000000\">samples = 173</text>\n",
       "<text text-anchor=\"middle\" x=\"56.5\" y=\"-7.8\" font-family=\"Times,serif\" font-size=\"14.00\" fill=\"#000000\">value = [149, 24]</text>\n",
       "</g>\n",
       "<!-- 2&#45;&gt;3 -->\n",
       "<g id=\"edge3\" class=\"edge\">\n",
       "<title>2&#45;&gt;3</title>\n",
       "<path fill=\"none\" stroke=\"#000000\" d=\"M139.372,-88.9777C126.6187,-79.3629 112.7673,-68.9203 100.1053,-59.3743\"/>\n",
       "<polygon fill=\"#000000\" stroke=\"#000000\" points=\"102.0719,-56.4737 91.9798,-53.2485 97.8579,-62.0632 102.0719,-56.4737\"/>\n",
       "</g>\n",
       "<!-- 4 -->\n",
       "<g id=\"node5\" class=\"node\">\n",
       "<title>4</title>\n",
       "<polygon fill=\"none\" stroke=\"#000000\" points=\"237.5,-53 131.5,-53 131.5,0 237.5,0 237.5,-53\"/>\n",
       "<text text-anchor=\"middle\" x=\"184.5\" y=\"-37.8\" font-family=\"Times,serif\" font-size=\"14.00\" fill=\"#000000\">entropy = 0.985</text>\n",
       "<text text-anchor=\"middle\" x=\"184.5\" y=\"-22.8\" font-family=\"Times,serif\" font-size=\"14.00\" fill=\"#000000\">samples = 63</text>\n",
       "<text text-anchor=\"middle\" x=\"184.5\" y=\"-7.8\" font-family=\"Times,serif\" font-size=\"14.00\" fill=\"#000000\">value = [36, 27]</text>\n",
       "</g>\n",
       "<!-- 2&#45;&gt;4 -->\n",
       "<g id=\"edge4\" class=\"edge\">\n",
       "<title>2&#45;&gt;4</title>\n",
       "<path fill=\"none\" stroke=\"#000000\" d=\"M184.5,-88.9777C184.5,-80.7364 184.5,-71.887 184.5,-63.5153\"/>\n",
       "<polygon fill=\"#000000\" stroke=\"#000000\" points=\"188.0001,-63.2484 184.5,-53.2485 181.0001,-63.2485 188.0001,-63.2484\"/>\n",
       "</g>\n",
       "<!-- 6 -->\n",
       "<g id=\"node7\" class=\"node\">\n",
       "<title>6</title>\n",
       "<polygon fill=\"none\" stroke=\"#000000\" points=\"361.5,-53 255.5,-53 255.5,0 361.5,0 361.5,-53\"/>\n",
       "<text text-anchor=\"middle\" x=\"308.5\" y=\"-37.8\" font-family=\"Times,serif\" font-size=\"14.00\" fill=\"#000000\">entropy = 0.971</text>\n",
       "<text text-anchor=\"middle\" x=\"308.5\" y=\"-22.8\" font-family=\"Times,serif\" font-size=\"14.00\" fill=\"#000000\">samples = 5</text>\n",
       "<text text-anchor=\"middle\" x=\"308.5\" y=\"-7.8\" font-family=\"Times,serif\" font-size=\"14.00\" fill=\"#000000\">value = [3, 2]</text>\n",
       "</g>\n",
       "<!-- 5&#45;&gt;6 -->\n",
       "<g id=\"edge6\" class=\"edge\">\n",
       "<title>5&#45;&gt;6</title>\n",
       "<path fill=\"none\" stroke=\"#000000\" d=\"M347.3462,-88.9777C341.8805,-80.187 335.9846,-70.7044 330.4778,-61.8477\"/>\n",
       "<polygon fill=\"#000000\" stroke=\"#000000\" points=\"333.3837,-59.8927 325.1312,-53.2485 327.4391,-63.5889 333.3837,-59.8927\"/>\n",
       "</g>\n",
       "<!-- 7 -->\n",
       "<g id=\"node8\" class=\"node\">\n",
       "<title>7</title>\n",
       "<polygon fill=\"none\" stroke=\"#000000\" points=\"485.5,-53 379.5,-53 379.5,0 485.5,0 485.5,-53\"/>\n",
       "<text text-anchor=\"middle\" x=\"432.5\" y=\"-37.8\" font-family=\"Times,serif\" font-size=\"14.00\" fill=\"#000000\">entropy = 0.398</text>\n",
       "<text text-anchor=\"middle\" x=\"432.5\" y=\"-22.8\" font-family=\"Times,serif\" font-size=\"14.00\" fill=\"#000000\">samples = 38</text>\n",
       "<text text-anchor=\"middle\" x=\"432.5\" y=\"-7.8\" font-family=\"Times,serif\" font-size=\"14.00\" fill=\"#000000\">value = [3, 35]</text>\n",
       "</g>\n",
       "<!-- 5&#45;&gt;7 -->\n",
       "<g id=\"edge7\" class=\"edge\">\n",
       "<title>5&#45;&gt;7</title>\n",
       "<path fill=\"none\" stroke=\"#000000\" d=\"M391.064,-88.9777C396.8941,-80.187 403.1831,-70.7044 409.057,-61.8477\"/>\n",
       "<polygon fill=\"#000000\" stroke=\"#000000\" points=\"412.1498,-63.5167 414.7601,-53.2485 406.3162,-59.6478 412.1498,-63.5167\"/>\n",
       "</g>\n",
       "<!-- 9 -->\n",
       "<g id=\"node10\" class=\"node\">\n",
       "<title>9</title>\n",
       "<polygon fill=\"none\" stroke=\"#000000\" points=\"671.5,-157 565.5,-157 565.5,-89 671.5,-89 671.5,-157\"/>\n",
       "<text text-anchor=\"middle\" x=\"618.5\" y=\"-141.8\" font-family=\"Times,serif\" font-size=\"14.00\" fill=\"#000000\">X[12] &lt;= 2.5</text>\n",
       "<text text-anchor=\"middle\" x=\"618.5\" y=\"-126.8\" font-family=\"Times,serif\" font-size=\"14.00\" fill=\"#000000\">entropy = 0.469</text>\n",
       "<text text-anchor=\"middle\" x=\"618.5\" y=\"-111.8\" font-family=\"Times,serif\" font-size=\"14.00\" fill=\"#000000\">samples = 80</text>\n",
       "<text text-anchor=\"middle\" x=\"618.5\" y=\"-96.8\" font-family=\"Times,serif\" font-size=\"14.00\" fill=\"#000000\">value = [8, 72]</text>\n",
       "</g>\n",
       "<!-- 8&#45;&gt;9 -->\n",
       "<g id=\"edge9\" class=\"edge\">\n",
       "<title>8&#45;&gt;9</title>\n",
       "<path fill=\"none\" stroke=\"#000000\" d=\"M618.5,-192.9465C618.5,-184.776 618.5,-175.9318 618.5,-167.3697\"/>\n",
       "<polygon fill=\"#000000\" stroke=\"#000000\" points=\"622.0001,-167.13 618.5,-157.13 615.0001,-167.13 622.0001,-167.13\"/>\n",
       "</g>\n",
       "<!-- 12 -->\n",
       "<g id=\"node13\" class=\"node\">\n",
       "<title>12</title>\n",
       "<polygon fill=\"none\" stroke=\"#000000\" points=\"857.5,-157 751.5,-157 751.5,-89 857.5,-89 857.5,-157\"/>\n",
       "<text text-anchor=\"middle\" x=\"804.5\" y=\"-141.8\" font-family=\"Times,serif\" font-size=\"14.00\" fill=\"#000000\">X[5] &lt;= 0.5</text>\n",
       "<text text-anchor=\"middle\" x=\"804.5\" y=\"-126.8\" font-family=\"Times,serif\" font-size=\"14.00\" fill=\"#000000\">entropy = 0.101</text>\n",
       "<text text-anchor=\"middle\" x=\"804.5\" y=\"-111.8\" font-family=\"Times,serif\" font-size=\"14.00\" fill=\"#000000\">samples = 153</text>\n",
       "<text text-anchor=\"middle\" x=\"804.5\" y=\"-96.8\" font-family=\"Times,serif\" font-size=\"14.00\" fill=\"#000000\">value = [2, 151]</text>\n",
       "</g>\n",
       "<!-- 8&#45;&gt;12 -->\n",
       "<g id=\"edge12\" class=\"edge\">\n",
       "<title>8&#45;&gt;12</title>\n",
       "<path fill=\"none\" stroke=\"#000000\" d=\"M675.0637,-195.373C696.3874,-183.4501 720.7467,-169.8298 742.538,-157.6454\"/>\n",
       "<polygon fill=\"#000000\" stroke=\"#000000\" points=\"744.364,-160.6344 751.3842,-152.6992 740.9478,-154.5247 744.364,-160.6344\"/>\n",
       "</g>\n",
       "<!-- 10 -->\n",
       "<g id=\"node11\" class=\"node\">\n",
       "<title>10</title>\n",
       "<polygon fill=\"none\" stroke=\"#000000\" points=\"609.5,-53 503.5,-53 503.5,0 609.5,0 609.5,-53\"/>\n",
       "<text text-anchor=\"middle\" x=\"556.5\" y=\"-37.8\" font-family=\"Times,serif\" font-size=\"14.00\" fill=\"#000000\">entropy = 0.779</text>\n",
       "<text text-anchor=\"middle\" x=\"556.5\" y=\"-22.8\" font-family=\"Times,serif\" font-size=\"14.00\" fill=\"#000000\">samples = 26</text>\n",
       "<text text-anchor=\"middle\" x=\"556.5\" y=\"-7.8\" font-family=\"Times,serif\" font-size=\"14.00\" fill=\"#000000\">value = [6, 20]</text>\n",
       "</g>\n",
       "<!-- 9&#45;&gt;10 -->\n",
       "<g id=\"edge10\" class=\"edge\">\n",
       "<title>9&#45;&gt;10</title>\n",
       "<path fill=\"none\" stroke=\"#000000\" d=\"M596.6411,-88.9777C590.9932,-80.187 584.9007,-70.7044 579.2104,-61.8477\"/>\n",
       "<polygon fill=\"#000000\" stroke=\"#000000\" points=\"582.0356,-59.7698 573.6856,-53.2485 576.1463,-63.5536 582.0356,-59.7698\"/>\n",
       "</g>\n",
       "<!-- 11 -->\n",
       "<g id=\"node12\" class=\"node\">\n",
       "<title>11</title>\n",
       "<polygon fill=\"none\" stroke=\"#000000\" points=\"733.5,-53 627.5,-53 627.5,0 733.5,0 733.5,-53\"/>\n",
       "<text text-anchor=\"middle\" x=\"680.5\" y=\"-37.8\" font-family=\"Times,serif\" font-size=\"14.00\" fill=\"#000000\">entropy = 0.229</text>\n",
       "<text text-anchor=\"middle\" x=\"680.5\" y=\"-22.8\" font-family=\"Times,serif\" font-size=\"14.00\" fill=\"#000000\">samples = 54</text>\n",
       "<text text-anchor=\"middle\" x=\"680.5\" y=\"-7.8\" font-family=\"Times,serif\" font-size=\"14.00\" fill=\"#000000\">value = [2, 52]</text>\n",
       "</g>\n",
       "<!-- 9&#45;&gt;11 -->\n",
       "<g id=\"edge11\" class=\"edge\">\n",
       "<title>9&#45;&gt;11</title>\n",
       "<path fill=\"none\" stroke=\"#000000\" d=\"M640.3589,-88.9777C646.0068,-80.187 652.0993,-70.7044 657.7896,-61.8477\"/>\n",
       "<polygon fill=\"#000000\" stroke=\"#000000\" points=\"660.8537,-63.5536 663.3144,-53.2485 654.9644,-59.7698 660.8537,-63.5536\"/>\n",
       "</g>\n",
       "<!-- 13 -->\n",
       "<g id=\"node14\" class=\"node\">\n",
       "<title>13</title>\n",
       "<polygon fill=\"none\" stroke=\"#000000\" points=\"857.5,-53 751.5,-53 751.5,0 857.5,0 857.5,-53\"/>\n",
       "<text text-anchor=\"middle\" x=\"804.5\" y=\"-37.8\" font-family=\"Times,serif\" font-size=\"14.00\" fill=\"#000000\">entropy = 0.503</text>\n",
       "<text text-anchor=\"middle\" x=\"804.5\" y=\"-22.8\" font-family=\"Times,serif\" font-size=\"14.00\" fill=\"#000000\">samples = 9</text>\n",
       "<text text-anchor=\"middle\" x=\"804.5\" y=\"-7.8\" font-family=\"Times,serif\" font-size=\"14.00\" fill=\"#000000\">value = [1, 8]</text>\n",
       "</g>\n",
       "<!-- 12&#45;&gt;13 -->\n",
       "<g id=\"edge13\" class=\"edge\">\n",
       "<title>12&#45;&gt;13</title>\n",
       "<path fill=\"none\" stroke=\"#000000\" d=\"M804.5,-88.9777C804.5,-80.7364 804.5,-71.887 804.5,-63.5153\"/>\n",
       "<polygon fill=\"#000000\" stroke=\"#000000\" points=\"808.0001,-63.2484 804.5,-53.2485 801.0001,-63.2485 808.0001,-63.2484\"/>\n",
       "</g>\n",
       "<!-- 14 -->\n",
       "<g id=\"node15\" class=\"node\">\n",
       "<title>14</title>\n",
       "<polygon fill=\"none\" stroke=\"#000000\" points=\"981.5,-53 875.5,-53 875.5,0 981.5,0 981.5,-53\"/>\n",
       "<text text-anchor=\"middle\" x=\"928.5\" y=\"-37.8\" font-family=\"Times,serif\" font-size=\"14.00\" fill=\"#000000\">entropy = 0.06</text>\n",
       "<text text-anchor=\"middle\" x=\"928.5\" y=\"-22.8\" font-family=\"Times,serif\" font-size=\"14.00\" fill=\"#000000\">samples = 144</text>\n",
       "<text text-anchor=\"middle\" x=\"928.5\" y=\"-7.8\" font-family=\"Times,serif\" font-size=\"14.00\" fill=\"#000000\">value = [1, 143]</text>\n",
       "</g>\n",
       "<!-- 12&#45;&gt;14 -->\n",
       "<g id=\"edge14\" class=\"edge\">\n",
       "<title>12&#45;&gt;14</title>\n",
       "<path fill=\"none\" stroke=\"#000000\" d=\"M848.2178,-88.9777C860.4549,-79.4545 873.7355,-69.1191 885.9066,-59.6473\"/>\n",
       "<polygon fill=\"#000000\" stroke=\"#000000\" points=\"888.3866,-62.1523 894.1289,-53.2485 884.0875,-56.628 888.3866,-62.1523\"/>\n",
       "</g>\n",
       "</g>\n",
       "</svg>\n"
      ],
      "text/plain": [
       "<graphviz.files.Source at 0x7f7cd89fb190>"
      ]
     },
     "execution_count": 56,
     "metadata": {},
     "output_type": "execute_result"
    }
   ],
   "source": [
    "from graphviz import Source\n",
    "from sklearn import tree\n",
    "Source(tree.export_graphviz(model, out_file=None))"
   ]
  },
  {
   "cell_type": "code",
   "execution_count": 57,
   "id": "14f99bb5-1e27-49a4-8313-a5b4e6de26c4",
   "metadata": {},
   "outputs": [],
   "source": [
    "# Cross Validation\n",
    "# This checks our model for overfitting"
   ]
  },
  {
   "cell_type": "code",
   "execution_count": 58,
   "id": "57509ad4-412c-4ebf-9797-a9c2daa84212",
   "metadata": {},
   "outputs": [],
   "source": [
    "from sklearn.model_selection import ShuffleSplit\n",
    "from sklearn.model_selection import cross_val_score\n",
    "from sklearn.model_selection import train_test_split"
   ]
  },
  {
   "cell_type": "code",
   "execution_count": 59,
   "id": "1c89741a-ee3d-4584-9329-edbb2ce1dcbf",
   "metadata": {},
   "outputs": [],
   "source": [
    "n_samples = df.shape[0]"
   ]
  },
  {
   "cell_type": "code",
   "execution_count": 60,
   "id": "23779a7c-4225-4878-8863-f8396c1ea478",
   "metadata": {},
   "outputs": [],
   "source": [
    "cv = ShuffleSplit(n_splits=3, test_size=0.3, random_state=0)"
   ]
  },
  {
   "cell_type": "code",
   "execution_count": 61,
   "id": "942a8108-8101-4773-a3c6-6ff839999269",
   "metadata": {},
   "outputs": [
    {
     "data": {
      "text/plain": [
       "KFold(n_splits=5, random_state=None, shuffle=False)"
      ]
     },
     "execution_count": 61,
     "metadata": {},
     "output_type": "execute_result"
    }
   ],
   "source": [
    "# 5 Fold K Cross Validation\n",
    "from sklearn.model_selection import KFold\n",
    "df_kf = KFold(n_splits=5)\n",
    "df_kf"
   ]
  },
  {
   "cell_type": "code",
   "execution_count": 68,
   "id": "57fd9499-2ba2-44c9-ba77-2fd639ab062f",
   "metadata": {},
   "outputs": [],
   "source": [
    "a = cross_val_score(df_lr, xtr, ytr, cv=df_kf)"
   ]
  },
  {
   "cell_type": "code",
   "execution_count": 69,
   "id": "0761a583-90e7-4a4d-ab4e-eae83a5659df",
   "metadata": {},
   "outputs": [
    {
     "name": "stdout",
     "output_type": "stream",
     "text": [
      "[0.88349515 0.82524272 0.85294118 0.80392157 0.87254902]\n"
     ]
    }
   ],
   "source": [
    "print(a)"
   ]
  },
  {
   "cell_type": "code",
   "execution_count": 70,
   "id": "74cf4cac-036a-415b-a595-a1666821b59d",
   "metadata": {},
   "outputs": [],
   "source": [
    "# Find the mean cross validation score"
   ]
  },
  {
   "cell_type": "code",
   "execution_count": 73,
   "id": "0068e69c-c2f4-4241-8b24-ec79b2a4291c",
   "metadata": {},
   "outputs": [
    {
     "name": "stdout",
     "output_type": "stream",
     "text": [
      "0.8476299257567106\n"
     ]
    }
   ],
   "source": [
    "avg = np.mean(a, axis=None, dtype=None, out=None)\n",
    "print(avg)"
   ]
  },
  {
   "cell_type": "code",
   "execution_count": 91,
   "id": "2cae04f5-f6e9-49eb-803f-c46e9c53fc67",
   "metadata": {},
   "outputs": [],
   "source": [
    "# define x and y\n",
    "feature_cols = ['mental_health_benefits','family_history','physical_activity','age', 'gender',\n",
    "                'work_interference','learning_resources','past_mental_health_disorder',\n",
    "                'medical_coverage','medical_leave','anonymity','sleep']\n",
    "x = df[feature_cols]\n",
    "y = df.sought_treatment\n",
    "# split x and y \n",
    "xtr, xts, ytr, yts = train_test_split(x, y, test_size=0.35, random_state=0)\n",
    "\n",
    "methodDict = {}\n",
    "rmseDict = ()"
   ]
  },
  {
   "cell_type": "code",
   "execution_count": 104,
   "id": "7f847f19-9c15-4eda-84d4-7187135379be",
   "metadata": {},
   "outputs": [],
   "source": [
    "def evalClassModel(model, yts, ypred, plot=False):\n",
    "    print('null accuracy:\\n', yts.value_counts())\n",
    "    # percentage of ones\n",
    "    print('Percentage of ones:', yts.mean())\n",
    "    # percentage of zeros\n",
    "    print('Percentage of zeros:',1 - yts.mean())\n",
    "\n",
    "    confusion = metrics.confusion_matrix(yts, ypred)\n",
    "    TP = confusion[1, 1]\n",
    "    TN = confusion[0, 0]\n",
    "    FP = confusion[0, 1]\n",
    "    FN = confusion[1, 0]\n",
    "    \n",
    "    # Confusion Matrix\n",
    "    sns.heatmap(confusion,annot=True,fmt=\"d\") \n",
    "    plt.title('confusion matrix')\n",
    "    plt.xlabel('predicted')\n",
    "    plt.ylabel('actual')\n",
    "    plt.show()\n",
    "    \n",
    "    # Classification Accuracy\n",
    "    accuracy = metrics.accuracy_score(yts, ypred)\n",
    "    print('classification accuracy:', accuracy)\n",
    "    \n",
    "    #Classification Error\n",
    "    print('classification error:', 1 - metrics.accuracy_score(yts, ypred))\n",
    "    #False Positive Rate\n",
    "    fp_rate = FP / float(TN + FP)\n",
    "    print('false positive rate:', fp_rate )\n",
    "    \n",
    "    #Precision: When a positive value is predicted, how often is the prediction correct?\n",
    "    print('precision:', metrics.precision_score(yts, ypred))\n",
    "\n",
    "    print('ROC AUC Score:', metrics.roc_auc_score(yts, ypred))\n",
    "    \n",
    "    #ROC Curves and Area Under the Curve (AUC)\n",
    "    rocauc = metrics.roc_auc_score(yts, ypred)\n",
    "    \n",
    "    fpr, tpr, thresholds = metrics.roc_curve(yts, ypred)\n",
    "    if plot == True:\n",
    "        plt.figure()\n",
    "        \n",
    "        plt.plot(fpr, tpr, color='darkorange', label='ROC curve (area = %0.2f)' % rocauc)\n",
    "        plt.plot([0, 1], [0, 1], color='navy', linestyle='--')\n",
    "        plt.xlim([0.0, 1.0])\n",
    "        plt.ylim([0.0, 1.0])\n",
    "        plt.rcParams['font.size'] = 12\n",
    "        plt.title('ROC curve for treatment classifier')\n",
    "        plt.xlabel('False Positive Rate (1 - Specificity)')\n",
    "        plt.ylabel('True Positive Rate (Sensitivity)')\n",
    "        plt.legend(loc=\"lower right\")\n",
    "        plt.show()\n",
    "    \n",
    "    # define a function that accepts a threshold and prints sensitivity and specificity\n",
    "    # def evaluate_threshold(threshold):\n",
    "        #print('Specificity for ' + str(threshold) + ' :', 1 - fpr[thresholds > threshold][-1])\n",
    "\n",
    "    # One way of setting threshold\n",
    "    # predict_mine = np.where(ypred > 0.50, 1, 0)\n",
    "    # confusion = metrics.confusion_matrix(yts, predict_mine)\n",
    "    # print(confusion)\n",
    "    \n",
    "    \n",
    "    \n",
    "    # return accuracy"
   ]
  },
  {
   "cell_type": "code",
   "execution_count": 105,
   "id": "62576549-a476-45d1-bd42-f509def903f9",
   "metadata": {},
   "outputs": [
    {
     "name": "stdout",
     "output_type": "stream",
     "text": [
      "########### Logistic Regression ###############\n",
      "null accuracy:\n",
      " 1    179\n",
      "0     98\n",
      "Name: sought_treatment, dtype: int64\n",
      "Percentage of ones: 0.6462093862815884\n",
      "Percentage of zeros: 0.3537906137184116\n"
     ]
    },
    {
     "data": {
      "image/png": "[encoded data removed]",
      "text/plain": [
       "<Figure size 432x288 with 2 Axes>"
      ]
     },
     "metadata": {
      "needs_background": "light"
     },
     "output_type": "display_data"
    },
    {
     "name": "stdout",
     "output_type": "stream",
     "text": [
      "classification accuracy: 0.8194945848375451\n",
      "classification error: 0.18050541516245489\n",
      "false positive rate: 0.24489795918367346\n",
      "precision: 0.864406779661017\n",
      "ROC AUC Score: 0.8049253220841408\n"
     ]
    },
    {
     "data": {
      "image/png": "[encoded data removed]",
      "text/plain": [
       "<Figure size 432x288 with 1 Axes>"
      ]
     },
     "metadata": {
      "needs_background": "light"
     },
     "output_type": "display_data"
    }
   ],
   "source": [
    "# ROC Curve for Logistic Regression\n",
    "from sklearn.linear_model import LogisticRegression\n",
    "from sklearn import metrics\n",
    "def logisticRegression():\n",
    "    # train a logistic regression model on the training set\n",
    "    logreg = LogisticRegression(max_iter = 10000)\n",
    "    logreg.fit(xtr, ytr)\n",
    "    \n",
    "    # make class predictions for the testing set\n",
    "    ypred = logreg.predict(xts)\n",
    "    \n",
    "    print('########### Logistic Regression ###############')\n",
    "    \n",
    "    accuracy_score = evalClassModel(logreg, yts, ypred, True)\n",
    "    \n",
    "    #Data for final graph\n",
    "    methodDict['Log. Regres.'] = accuracy_score\n",
    "logisticRegression()"
   ]
  },
  {
   "cell_type": "code",
   "execution_count": 101,
   "id": "d7cbfa2f-e2fb-4c7a-839d-597d38453138",
   "metadata": {},
   "outputs": [
    {
     "name": "stdout",
     "output_type": "stream",
     "text": [
      "########### Tree classifier ###############\n",
      "null accuracy:\n",
      " 1    179\n",
      "0     98\n",
      "Name: sought_treatment, dtype: int64\n",
      "Percentage of ones: 0.6462093862815884\n",
      "Percentage of zeros: 0.3537906137184116\n"
     ]
    },
    {
     "data": {
      "image/png": "[encoded data removed]",
      "text/plain": [
       "<Figure size 432x288 with 2 Axes>"
      ]
     },
     "metadata": {
      "needs_background": "light"
     },
     "output_type": "display_data"
    },
    {
     "name": "stdout",
     "output_type": "stream",
     "text": [
      "classification accuracy: 0.7942238267148014\n",
      "classification error: 0.2057761732851986\n",
      "false positive rate: 0.20408163265306123\n",
      "precision: 0.8765432098765432\n",
      "ROC AUC Score: 0.7946072283662068\n"
     ]
    },
    {
     "data": {
      "image/png": "[encoded data removed]",
      "text/plain": [
       "<Figure size 432x288 with 1 Axes>"
      ]
     },
     "metadata": {
      "needs_background": "light"
     },
     "output_type": "display_data"
    }
   ],
   "source": [
    "# ROC Curve for Decision Trees\n",
    "methodDict = {}\n",
    "rmseDict = ()\n",
    "from sklearn.tree import DecisionTreeClassifier\n",
    "from scipy.stats import randint\n",
    "def treeClassifier():\n",
    "    # Calculating the best parameters\n",
    "    tree = DecisionTreeClassifier()\n",
    "    featuresSize = feature_cols.__len__()\n",
    "    param_dist = {\"max_depth\": [3, None],\n",
    "              \"max_features\": randint(1, featuresSize),\n",
    "              \"min_samples_split\": randint(2, 9),\n",
    "              \"min_samples_leaf\": randint(1, 9),\n",
    "              \"criterion\": [\"gini\", \"entropy\"]}\n",
    "    \n",
    "    # train a decision tree model on the training set\n",
    "    tree = DecisionTreeClassifier(max_depth=3, min_samples_split=8, max_features=6, criterion='entropy', min_samples_leaf=7)\n",
    "    tree.fit(xtr, ytr)\n",
    "    \n",
    "    # make class predictions for the testing set\n",
    "    ypred = tree.predict(xts)\n",
    "    \n",
    "    print('########### Tree classifier ###############')\n",
    "    \n",
    "    accuracy_score = evalClassModel(tree, yts, ypred, True)\n",
    "\n",
    "    #Data for final graph\n",
    "    methodDict['Tree clas.'] = accuracy_score\n",
    "treeClassifier()\n"
   ]
  }
 ],
 "metadata": {
  "kernelspec": {
   "display_name": "Python 3 (ipykernel)",
   "language": "python",
   "name": "python3"
  },
  "language_info": {
   "codemirror_mode": {
    "name": "ipython",
    "version": 3
   },
   "file_extension": ".py",
   "mimetype": "text/x-python",
   "name": "python",
   "nbconvert_exporter": "python",
   "pygments_lexer": "ipython3",
   "version": "3.9.7"
  }
 },
 "nbformat": 4,
 "nbformat_minor": 5
}
